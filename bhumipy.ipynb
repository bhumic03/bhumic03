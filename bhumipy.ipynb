{
  "nbformat": 4,
  "nbformat_minor": 0,
  "metadata": {
    "colab": {
      "provenance": [],
      "authorship_tag": "ABX9TyN8DnaemmzpslFDdzX8JL3J",
      "include_colab_link": true
    },
    "kernelspec": {
      "name": "python3",
      "display_name": "Python 3"
    },
    "language_info": {
      "name": "python"
    }
  },
  "cells": [
    {
      "cell_type": "markdown",
      "metadata": {
        "id": "view-in-github",
        "colab_type": "text"
      },
      "source": [
        "<a href=\"https://colab.research.google.com/github/bhumic03/bhumic03/blob/main/bhumipy.ipynb\" target=\"_parent\"><img src=\"https://colab.research.google.com/assets/colab-badge.svg\" alt=\"Open In Colab\"/></a>"
      ]
    },
    {
      "cell_type": "code",
      "execution_count": null,
      "metadata": {
        "colab": {
          "base_uri": "https://localhost:8080/"
        },
        "id": "pAbH61c7_cRj",
        "outputId": "f6d329d2-abe9-4c9e-9fe4-84a1191d22ad"
      },
      "outputs": [
        {
          "output_type": "stream",
          "name": "stdout",
          "text": [
            "['apples', 'banana', 'oranges']\n"
          ]
        }
      ],
      "source": [
        "fruit =['apples','banana','oranges']\n",
        "print(fruit)"
      ]
    },
    {
      "cell_type": "code",
      "source": [
        "mylist= ['10','20','bhumi','python']\n",
        "mylist[2:5]"
      ],
      "metadata": {
        "colab": {
          "base_uri": "https://localhost:8080/"
        },
        "id": "JT9gwpB9AELd",
        "outputId": "edbb583a-8298-4c03-81a9-c2f25d180f9a"
      },
      "execution_count": null,
      "outputs": [
        {
          "output_type": "execute_result",
          "data": {
            "text/plain": [
              "['bhumi', 'python']"
            ]
          },
          "metadata": {},
          "execution_count": 2
        }
      ]
    },
    {
      "cell_type": "code",
      "source": [
        "#changing values in lists\n",
        "mylist[1]=25\n",
        "print(mylist)"
      ],
      "metadata": {
        "colab": {
          "base_uri": "https://localhost:8080/"
        },
        "id": "9OlYnT3PBJHK",
        "outputId": "512ac78d-081a-4452-c334-69f5ee046c68"
      },
      "execution_count": null,
      "outputs": [
        {
          "output_type": "stream",
          "name": "stdout",
          "text": [
            "['10', 25, 'bhumi', 'python']\n"
          ]
        }
      ]
    },
    {
      "cell_type": "code",
      "source": [
        "mylist.insert(3,100)\n",
        "mylist"
      ],
      "metadata": {
        "colab": {
          "base_uri": "https://localhost:8080/"
        },
        "id": "4AqrVFa4BekX",
        "outputId": "206475ad-626e-4437-e640-eeaf6d49937f"
      },
      "execution_count": null,
      "outputs": [
        {
          "output_type": "execute_result",
          "data": {
            "text/plain": [
              "['10', 25, 'bhumi', 100, 'python']"
            ]
          },
          "metadata": {},
          "execution_count": 4
        }
      ]
    },
    {
      "cell_type": "code",
      "source": [
        "mylist.insert(4,\"upes\")\n",
        "mylist"
      ],
      "metadata": {
        "colab": {
          "base_uri": "https://localhost:8080/"
        },
        "id": "u2hy7X-oCFI8",
        "outputId": "b2b55cc4-2d3f-4b89-b12e-6d885e8cf8c7"
      },
      "execution_count": null,
      "outputs": [
        {
          "output_type": "execute_result",
          "data": {
            "text/plain": [
              "['10', 25, 'bhumi', 100, 'upes', 'python']"
            ]
          },
          "metadata": {},
          "execution_count": 5
        }
      ]
    },
    {
      "cell_type": "code",
      "source": [
        "#reversing the list\n",
        "mylist.reverse()\n",
        "mylist"
      ],
      "metadata": {
        "colab": {
          "base_uri": "https://localhost:8080/"
        },
        "id": "1g4mHDsCChKf",
        "outputId": "ce72bc8a-efc2-4245-a7aa-48e15365ffca"
      },
      "execution_count": null,
      "outputs": [
        {
          "output_type": "execute_result",
          "data": {
            "text/plain": [
              "['python', 'upes', 100, 'bhumi', 25, '10']"
            ]
          },
          "metadata": {},
          "execution_count": 6
        }
      ]
    },
    {
      "cell_type": "code",
      "source": [
        "a =[1,2,3]\n",
        "a.append(7)\n",
        "print(a)"
      ],
      "metadata": {
        "colab": {
          "base_uri": "https://localhost:8080/"
        },
        "id": "1fCUnqOjDl4t",
        "outputId": "bd21200d-75ff-4d88-b5d7-7106b6cba9d4"
      },
      "execution_count": null,
      "outputs": [
        {
          "output_type": "stream",
          "name": "stdout",
          "text": [
            "[1, 2, 3, 7]\n"
          ]
        }
      ]
    },
    {
      "cell_type": "code",
      "source": [
        "courses={1 : 'python',\n",
        "          2 : 'datascience',\n",
        "         'third' : 'AI'}"
      ],
      "metadata": {
        "id": "MU4z3TL9EVcz"
      },
      "execution_count": null,
      "outputs": []
    },
    {
      "cell_type": "code",
      "source": [
        "print(courses)"
      ],
      "metadata": {
        "colab": {
          "base_uri": "https://localhost:8080/"
        },
        "id": "_c0PVGf5FUXw",
        "outputId": "425ec034-52ae-40cb-f0f9-7960370779dc"
      },
      "execution_count": null,
      "outputs": [
        {
          "output_type": "stream",
          "name": "stdout",
          "text": [
            "{1: 'python', 2: 'datascience', 'third': 'AI'}\n"
          ]
        }
      ]
    },
    {
      "cell_type": "code",
      "source": [
        "courses[2]\n"
      ],
      "metadata": {
        "colab": {
          "base_uri": "https://localhost:8080/",
          "height": 36
        },
        "id": "B9Vsc3NBFe0e",
        "outputId": "39540fd4-6684-470b-de8c-514276908bd2"
      },
      "execution_count": null,
      "outputs": [
        {
          "output_type": "execute_result",
          "data": {
            "text/plain": [
              "'datascience'"
            ],
            "application/vnd.google.colaboratory.intrinsic+json": {
              "type": "string"
            }
          },
          "metadata": {},
          "execution_count": 10
        }
      ]
    },
    {
      "cell_type": "code",
      "source": [
        "tuple=('tiger','giraffe','loin','10','20','30')\n",
        "print(tuple)"
      ],
      "metadata": {
        "colab": {
          "base_uri": "https://localhost:8080/"
        },
        "id": "Mc2O5xPcFxhD",
        "outputId": "c086cf92-2b8e-42b1-cf4e-8f7e44f495ec"
      },
      "execution_count": null,
      "outputs": [
        {
          "output_type": "stream",
          "name": "stdout",
          "text": [
            "('tiger', 'giraffe', 'loin', '10', '20', '30')\n"
          ]
        }
      ]
    },
    {
      "cell_type": "code",
      "source": [
        "tuple[2]"
      ],
      "metadata": {
        "colab": {
          "base_uri": "https://localhost:8080/",
          "height": 36
        },
        "id": "o1ppNjNIGIdd",
        "outputId": "6ec75cbf-93b2-4e02-a19a-37667fb9c8d7"
      },
      "execution_count": null,
      "outputs": [
        {
          "output_type": "execute_result",
          "data": {
            "text/plain": [
              "'loin'"
            ],
            "application/vnd.google.colaboratory.intrinsic+json": {
              "type": "string"
            }
          },
          "metadata": {},
          "execution_count": 12
        }
      ]
    },
    {
      "cell_type": "code",
      "source": [
        "print(\"string manuplation exercise \\n string concatenation is done with '+' sign\\n for example print('hello + touseef')\\n new lines can be created with backlash and\\n\")"
      ],
      "metadata": {
        "id": "lKbWs00_GOax",
        "colab": {
          "base_uri": "https://localhost:8080/"
        },
        "outputId": "e4b0b561-140f-4887-95a0-d2d5b6291703"
      },
      "execution_count": null,
      "outputs": [
        {
          "output_type": "stream",
          "name": "stdout",
          "text": [
            "string manuplation exercise \n",
            " string concatenation is done with '+' sign\n",
            " for example print('hello + touseef')\n",
            " new lines can be created with backlash and\n",
            "\n"
          ]
        }
      ]
    },
    {
      "cell_type": "code",
      "source": [
        "input(\"what is your name\")"
      ],
      "metadata": {
        "colab": {
          "base_uri": "https://localhost:8080/",
          "height": 53
        },
        "id": "zAko2VGmel9S",
        "outputId": "f32ef536-93fc-42e7-9003-ecd26a1ecfe8"
      },
      "execution_count": null,
      "outputs": [
        {
          "name": "stdout",
          "output_type": "stream",
          "text": [
            "what is your namebhumi\n"
          ]
        },
        {
          "output_type": "execute_result",
          "data": {
            "text/plain": [
              "'bhumi'"
            ],
            "application/vnd.google.colaboratory.intrinsic+json": {
              "type": "string"
            }
          },
          "metadata": {},
          "execution_count": 14
        }
      ]
    },
    {
      "cell_type": "code",
      "source": [
        "#swapping of two numbers\n",
        "a=input(\"enter the value of a=\")\n",
        "b=input(\"enter the value of b=\")\n",
        "temp=a\n",
        "a=b\n",
        "b=temp\n",
        "print(\"a=\" + a)\n",
        "print(\"b=\" + b)"
      ],
      "metadata": {
        "colab": {
          "base_uri": "https://localhost:8080/"
        },
        "id": "4FLYAse3ey8R",
        "outputId": "bc87b865-8b3f-4450-f7d8-188a8a594ecf"
      },
      "execution_count": null,
      "outputs": [
        {
          "output_type": "stream",
          "name": "stdout",
          "text": [
            "enter the value of a=34\n",
            "enter the value of b=67\n",
            "a=67\n",
            "b=34\n"
          ]
        }
      ]
    },
    {
      "cell_type": "code",
      "source": [
        "#name=\"bhumi\"\n",
        "name=\"12\"\n",
        "print( 10 + int(name))"
      ],
      "metadata": {
        "colab": {
          "base_uri": "https://localhost:8080/"
        },
        "id": "R9EKo776fLM1",
        "outputId": "98259a24-ae18-46aa-df94-c4feeee65aa2"
      },
      "execution_count": null,
      "outputs": [
        {
          "output_type": "stream",
          "name": "stdout",
          "text": [
            "22\n"
          ]
        }
      ]
    },
    {
      "cell_type": "code",
      "source": [
        "#BMI=weight/height*2\n",
        "height=float(input(\"enter the value of height in m\"))\n",
        "weight=float(input(\"Enter the value of weight in kg\"))\n",
        "bmi= weight/ (height * height)\n",
        "print(\"BMI is\", bmi)"
      ],
      "metadata": {
        "colab": {
          "base_uri": "https://localhost:8080/"
        },
        "id": "aV2_0fsag10U",
        "outputId": "59209c42-9acd-4c6b-f58f-d7f29317fc4e"
      },
      "execution_count": null,
      "outputs": [
        {
          "output_type": "stream",
          "name": "stdout",
          "text": [
            "enter the value of height in m1.6\n",
            "Enter the value of weight in kg79\n",
            "BMI is 30.859374999999993\n"
          ]
        }
      ]
    },
    {
      "cell_type": "code",
      "source": [
        "abc=5\n",
        "acb=4\n",
        "print(abc & acb)"
      ],
      "metadata": {
        "colab": {
          "base_uri": "https://localhost:8080/"
        },
        "id": "79TP2iFplR8c",
        "outputId": "fc8424b3-4e8c-4f81-fd87-f4caf337cb31"
      },
      "execution_count": null,
      "outputs": [
        {
          "output_type": "stream",
          "name": "stdout",
          "text": [
            "4\n"
          ]
        }
      ]
    },
    {
      "cell_type": "code",
      "source": [
        "print(abc|acb)"
      ],
      "metadata": {
        "colab": {
          "base_uri": "https://localhost:8080/"
        },
        "id": "cwRqP87nrTtm",
        "outputId": "5d5a24fe-9a14-4619-cb03-d3edcdd2d9a9"
      },
      "execution_count": null,
      "outputs": [
        {
          "output_type": "stream",
          "name": "stdout",
          "text": [
            "5\n"
          ]
        }
      ]
    },
    {
      "cell_type": "code",
      "source": [
        "print(~abc)"
      ],
      "metadata": {
        "colab": {
          "base_uri": "https://localhost:8080/"
        },
        "id": "Y9-iad6MraRF",
        "outputId": "c91c1318-6a49-4f85-88e8-f5499d59fa2d"
      },
      "execution_count": null,
      "outputs": [
        {
          "output_type": "stream",
          "name": "stdout",
          "text": [
            "-6\n"
          ]
        }
      ]
    },
    {
      "cell_type": "code",
      "source": [
        "print(~acb)"
      ],
      "metadata": {
        "colab": {
          "base_uri": "https://localhost:8080/"
        },
        "id": "L1VNwv6VrglV",
        "outputId": "6eb811e1-9a20-48a9-b298-00e2f32aa3d9"
      },
      "execution_count": null,
      "outputs": [
        {
          "output_type": "stream",
          "name": "stdout",
          "text": [
            "-5\n"
          ]
        }
      ]
    },
    {
      "cell_type": "code",
      "source": [
        "print(abc>>2)"
      ],
      "metadata": {
        "colab": {
          "base_uri": "https://localhost:8080/"
        },
        "id": "FChZxsVhrmZy",
        "outputId": "00e3ef9e-080e-4ab3-debc-aaf553787590"
      },
      "execution_count": null,
      "outputs": [
        {
          "output_type": "stream",
          "name": "stdout",
          "text": [
            "1\n"
          ]
        }
      ]
    },
    {
      "cell_type": "code",
      "source": [
        "xy=6\n",
        "yz=6\n",
        "print(xy==yz)"
      ],
      "metadata": {
        "colab": {
          "base_uri": "https://localhost:8080/"
        },
        "id": "iN4bWftQsMCx",
        "outputId": "3287be5a-c3f7-4fcf-91c5-dd0c65f53db4"
      },
      "execution_count": null,
      "outputs": [
        {
          "output_type": "stream",
          "name": "stdout",
          "text": [
            "True\n"
          ]
        }
      ]
    },
    {
      "cell_type": "code",
      "source": [
        "print(id(xy))"
      ],
      "metadata": {
        "colab": {
          "base_uri": "https://localhost:8080/"
        },
        "id": "67nREpWssZvf",
        "outputId": "5e1c4e71-afb2-413b-d056-c857f7deb14c"
      },
      "execution_count": null,
      "outputs": [
        {
          "output_type": "stream",
          "name": "stdout",
          "text": [
            "136882945180048\n"
          ]
        }
      ]
    },
    {
      "cell_type": "code",
      "source": [
        "print(id(yz))"
      ],
      "metadata": {
        "colab": {
          "base_uri": "https://localhost:8080/"
        },
        "id": "TGEAxtEIsjoN",
        "outputId": "0993c049-47dc-4bf1-aed8-163cd3d7c084"
      },
      "execution_count": null,
      "outputs": [
        {
          "output_type": "stream",
          "name": "stdout",
          "text": [
            "136882945180048\n"
          ]
        }
      ]
    },
    {
      "cell_type": "code",
      "source": [
        "print(xy is yz)"
      ],
      "metadata": {
        "colab": {
          "base_uri": "https://localhost:8080/"
        },
        "id": "8bfYel9Csj01",
        "outputId": "cb417b37-4f79-4c9a-b339-f1f328cac052"
      },
      "execution_count": null,
      "outputs": [
        {
          "output_type": "stream",
          "name": "stdout",
          "text": [
            "True\n"
          ]
        }
      ]
    },
    {
      "cell_type": "code",
      "source": [
        "str = \"bhumi\"\n",
        "print('mi' in str)"
      ],
      "metadata": {
        "colab": {
          "base_uri": "https://localhost:8080/"
        },
        "id": "h4SeHLSJtXEr",
        "outputId": "b21e24a5-b738-4e9d-d3d5-5d0a2385b56a"
      },
      "execution_count": null,
      "outputs": [
        {
          "output_type": "stream",
          "name": "stdout",
          "text": [
            "True\n"
          ]
        }
      ]
    },
    {
      "cell_type": "code",
      "source": [
        "#if statement\n",
        "age=int(input(\"enter your age\"))\n",
        "if age>18:\n",
        "  print(\"you can apply for license\")\n",
        "  #print(\"you are not eligible\")#if you dont want to print anything after if block"
      ],
      "metadata": {
        "colab": {
          "base_uri": "https://localhost:8080/"
        },
        "id": "dKM2PQ8zV0ni",
        "outputId": "94f78f86-102b-4413-e9b9-5e717a4dbb84"
      },
      "execution_count": null,
      "outputs": [
        {
          "output_type": "stream",
          "name": "stdout",
          "text": [
            "enter your age34\n",
            "you can apply for license\n"
          ]
        }
      ]
    },
    {
      "cell_type": "code",
      "source": [
        "number = int(input(\"enter the numbers=\"))\n",
        "if number % 2 == 0:\n",
        "  print(\"it is an even number\")\n",
        "else:\n",
        "  print(\"it is an odd number\")\n",
        "print(\"thankyou\")"
      ],
      "metadata": {
        "colab": {
          "base_uri": "https://localhost:8080/"
        },
        "id": "07qf5HAHWjyH",
        "outputId": "6862aaed-445d-414b-c2fe-2a42862b20e4"
      },
      "execution_count": null,
      "outputs": [
        {
          "output_type": "stream",
          "name": "stdout",
          "text": [
            "enter the numbers=23\n",
            "it is an odd number\n",
            "thankyou\n"
          ]
        }
      ]
    },
    {
      "cell_type": "code",
      "source": [
        "a=51\n",
        "if a%2 == 0:\n",
        " print(\"number is even\")\n",
        "if a>30:\n",
        "  print(\"the number is greater than 30\")\n",
        "  print(\"bye\")"
      ],
      "metadata": {
        "colab": {
          "base_uri": "https://localhost:8080/"
        },
        "id": "wiAXMBDXXjvm",
        "outputId": "0270561f-ea66-4b20-f0f1-9a936864fbe2"
      },
      "execution_count": null,
      "outputs": [
        {
          "output_type": "stream",
          "name": "stdout",
          "text": [
            "the number is greater than 30\n",
            "bye\n"
          ]
        }
      ]
    },
    {
      "cell_type": "code",
      "source": [
        "#we are going in a park and they ask you about your age to check how much money you have to pay for\n",
        "ht = int(input(\"enter your height=\"))\n",
        "if ht >= 4:\n",
        "  print(\"you can ride\")\n",
        "  age = int(input(\"enter your age\"))\n",
        "  if age<=18:\n",
        "    print(\"you have to pay 250rs\")\n",
        "  else:\n",
        "    print(\"you have to pay 500rs\")\n",
        "else:\n",
        "   print(\"you cannot ride\")\n"
      ],
      "metadata": {
        "id": "b_RjusTvZCHf",
        "colab": {
          "base_uri": "https://localhost:8080/"
        },
        "outputId": "97744e4a-d658-4715-ab4d-55b875d3c35b"
      },
      "execution_count": null,
      "outputs": [
        {
          "output_type": "stream",
          "name": "stdout",
          "text": [
            "enter your height=5\n",
            "you can ride\n",
            "enter your age43\n",
            "you have to pay 500rs\n"
          ]
        }
      ]
    },
    {
      "cell_type": "code",
      "source": [
        "number = int(input(\"enter the input\"))\n",
        "if number == 1:\n",
        "  print(\"one\")\n",
        "if number == 2:\n",
        "  print(\"two\")\n",
        "if number == 3:\n",
        "  print(\"three\")"
      ],
      "metadata": {
        "colab": {
          "base_uri": "https://localhost:8080/"
        },
        "id": "xtoPsfhRb0Gp",
        "outputId": "53cec892-9668-4ebc-8a7d-76c1d64f7ca1"
      },
      "execution_count": null,
      "outputs": [
        {
          "output_type": "stream",
          "name": "stdout",
          "text": [
            "enter the input2\n",
            "two\n"
          ]
        }
      ]
    },
    {
      "cell_type": "code",
      "source": [
        "# if elif else\n",
        "number = int(input(\"enter the number between 0 to 30..\"))\n",
        "if (number > 0 and number <= 10):\n",
        "    print(\"number ranges from 0 to 10\")\n",
        "elif (number > 10 and number <= 20):\n",
        "    print(\"number ranges from 10 and 20\")\n",
        "elif(number >20 and number <=30):\n",
        "    print(\"number ranges from 20 to 30\")\n",
        "else:\n",
        "  print(\"you have not entered correct number\")\n"
      ],
      "metadata": {
        "colab": {
          "base_uri": "https://localhost:8080/"
        },
        "id": "c3tev-fBdB4M",
        "outputId": "657be350-6928-48fc-96ec-2b365c9902af"
      },
      "execution_count": null,
      "outputs": [
        {
          "output_type": "stream",
          "name": "stdout",
          "text": [
            "enter the number between 0 to 30..15\n",
            "number ranges from 10 and 20\n"
          ]
        }
      ]
    },
    {
      "cell_type": "code",
      "source": [
        "year = int(input(\"enter the year you want to check\"))\n",
        "if year % 4 == 0:\n",
        "    if year % 100 == 0:\n",
        "        if year % 400 == 0:\n",
        "            print(\"leap year\")\n",
        "        else:\n",
        "            print(\"not a leap year\")\n",
        "    else:\n",
        "        print(\"leap year\")\n",
        "else:\n",
        "    print(\"it is not leap year\")"
      ],
      "metadata": {
        "colab": {
          "base_uri": "https://localhost:8080/"
        },
        "id": "zJaM-HJRkzQx",
        "outputId": "bf291a1d-6e78-49f0-e2a0-1f89c410db8d"
      },
      "execution_count": null,
      "outputs": [
        {
          "output_type": "stream",
          "name": "stdout",
          "text": [
            "enter the year you want to check1987\n",
            "it is not leap year\n"
          ]
        }
      ]
    },
    {
      "cell_type": "code",
      "source": [
        "height = int(input(\"enter the height=\"))\n",
        "bill=0\n",
        "if height >= 3:\n",
        "  print(\"you are eligible to ride\")\n",
        "  age = int(input(\"enter your age\"))\n",
        "  if age <= 12:\n",
        "     bill = 150\n",
        "     print(\"you have to pay 150rs\")\n",
        "  elif age <= 18:\n",
        "    bill = 250\n",
        "    print(\"you have to pay 250 rs\")\n",
        "  else:\n",
        "    bill = 500\n",
        "    print(\"you have to pay 500rs\")\n",
        "photo = input(\"do you want to take photo press Y or N: \")\n",
        "if photo == \"Y\" or photo == \"y\":\n",
        "  bill = bill + 50\n",
        "  print(\"your bill is\", bill)\n"
      ],
      "metadata": {
        "id": "y71S6xY6lR7c",
        "colab": {
          "base_uri": "https://localhost:8080/"
        },
        "outputId": "ba18dad7-259d-49e8-9a77-b4a192870fa2"
      },
      "execution_count": null,
      "outputs": [
        {
          "output_type": "stream",
          "name": "stdout",
          "text": [
            "enter the height=18\n",
            "you are eligible to ride\n",
            "enter your age29\n",
            "you have to pay 500rs\n",
            "do you want to take photo press Y or N: Y\n",
            "your bill is 550\n"
          ]
        }
      ]
    },
    {
      "cell_type": "code",
      "source": [
        "#bill for pizza\n",
        "size = input(\"enter the size: \")\n",
        "bill = 0\n",
        "if size == \"small\":\n",
        "  bill = 200\n",
        "  print(\"you have to pay 200rs\")\n",
        "elif size == \"medium\":\n",
        "  print(\"you have to pay 400\")\n",
        "elif size == \"large\":\n",
        "  print(\"you have to pay 500\")\n",
        "  pepper = input(\"do you want to take pepper press Y or N: \")\n",
        "  if pepper == \"Y\" or pepper == \"y\":\n",
        "    bill = bill + 50\n",
        "  extra_cheese = input(\"do you want extra chheese press Y or N:\")\n",
        "  if extra_cheese == \"Y\" or extra_cheese == \"y\":\n",
        "    bill2 = bill +20\n",
        "  print(\"your bill is\",bill)\n"
      ],
      "metadata": {
        "colab": {
          "base_uri": "https://localhost:8080/"
        },
        "id": "fu8ko01nlxvR",
        "outputId": "ac802d8c-22ac-45bb-e8b7-57a5d09e2b31"
      },
      "execution_count": null,
      "outputs": [
        {
          "output_type": "stream",
          "name": "stdout",
          "text": [
            "enter the size: small\n",
            "you have to pay 200rs\n"
          ]
        }
      ]
    },
    {
      "cell_type": "code",
      "source": [
        "piz=input(\"enter the pizza size[S,M,L] \")\n",
        "if(piz=='S' or piz=='s'):\n",
        "  bill=100\n",
        "  a=input(\"do you want to add extra cheese....Y or N \")\n",
        "  if(a=='Y' or a=='y'):\n",
        "    bill+=30\n",
        "elif(piz=='M' or piz=='m'):\n",
        "  bill=200\n",
        "  a=input(\"do you want to add extra cheese....Y or N \")\n",
        "  if(a=='Y' or a=='y'):\n",
        "    bill+=50\n",
        "elif(piz=='L' or piz=='l'):\n",
        "  bill=300\n",
        "  a=input(\"do you want to add extra cheese....Y or N \")\n",
        "  if(a=='Y' or a=='y'):\n",
        "    bill+=50\n",
        "else:\n",
        "  print(\"don't need pizza\")\n",
        "print(bill)"
      ],
      "metadata": {
        "colab": {
          "base_uri": "https://localhost:8080/"
        },
        "id": "GvBz-OO0q5Ix",
        "outputId": "7eeaf0d5-7c6a-408e-e2fc-42aabde079df"
      },
      "execution_count": null,
      "outputs": [
        {
          "output_type": "stream",
          "name": "stdout",
          "text": [
            "enter the pizza size[S,M,L] M\n",
            "do you want to add extra cheese....Y or N Y\n",
            "250\n"
          ]
        }
      ]
    },
    {
      "cell_type": "code",
      "source": [
        "#virtual toss program\n",
        "import random\n",
        "side =random.randint(0,1)\n",
        "if side==1:\n",
        "  print(\"heads\")\n",
        "else:\n",
        "    print(\"tails\")"
      ],
      "metadata": {
        "colab": {
          "base_uri": "https://localhost:8080/"
        },
        "id": "4SB2vRK6rC8E",
        "outputId": "f58b3499-4973-4d72-8f87-81781640c5df"
      },
      "execution_count": null,
      "outputs": [
        {
          "output_type": "stream",
          "name": "stdout",
          "text": [
            "tails\n"
          ]
        }
      ]
    },
    {
      "cell_type": "code",
      "source": [
        "text = \"welcome to python program\"\n",
        "text_s =text.split(\" \")\n",
        "print(text_s)"
      ],
      "metadata": {
        "colab": {
          "base_uri": "https://localhost:8080/"
        },
        "id": "tz5oau6btSUX",
        "outputId": "705c35d0-1b53-4bcc-cef6-13013618848c"
      },
      "execution_count": null,
      "outputs": [
        {
          "output_type": "stream",
          "name": "stdout",
          "text": [
            "['welcome', 'to', 'python', 'program']\n"
          ]
        }
      ]
    },
    {
      "cell_type": "code",
      "source": [
        "matrix = []\n",
        "row1 = [0,0,0]\n",
        "row2 = [1,1,1]\n",
        "row3 = [2,2,2]\n",
        "print(f\"(row1)\\n (row2)\\n (row3)\\n\")\n",
        "matrix = [row1,row2,row3]\n",
        "\n",
        "position = input(\"enter the position\")\n",
        "print(\" \")"
      ],
      "metadata": {
        "colab": {
          "base_uri": "https://localhost:8080/"
        },
        "id": "GroF2Aw6w3xj",
        "outputId": "ba2a29b7-1ff5-460f-ccd4-b69083837f5b"
      },
      "execution_count": 82,
      "outputs": [
        {
          "output_type": "stream",
          "name": "stdout",
          "text": [
            "(row1)\n",
            " (row2)\n",
            " (row3)\n",
            "\n",
            "enter the position3_2\n",
            " \n"
          ]
        }
      ]
    },
    {
      "cell_type": "code",
      "source": [
        "tuple = (\"upes\" , 10, 12.4 , True )\n",
        "tuple\n"
      ],
      "metadata": {
        "colab": {
          "base_uri": "https://localhost:8080/"
        },
        "id": "POYf0_iDAkGA",
        "outputId": "446bf2a2-d74e-48ba-daf2-c01236dd87c8"
      },
      "execution_count": null,
      "outputs": [
        {
          "output_type": "execute_result",
          "data": {
            "text/plain": [
              "('upes', 10, 12.4, True)"
            ]
          },
          "metadata": {},
          "execution_count": 44
        }
      ]
    },
    {
      "cell_type": "code",
      "source": [
        "tuple1 = (10,)\n",
        "tuple1"
      ],
      "metadata": {
        "colab": {
          "base_uri": "https://localhost:8080/"
        },
        "id": "uWn0Hps7Be2C",
        "outputId": "f5072808-7c68-47d9-c29c-84bb69d12cd6"
      },
      "execution_count": null,
      "outputs": [
        {
          "output_type": "execute_result",
          "data": {
            "text/plain": [
              "(10,)"
            ]
          },
          "metadata": {},
          "execution_count": 45
        }
      ]
    },
    {
      "cell_type": "code",
      "source": [
        "print(type(tuple1))"
      ],
      "metadata": {
        "colab": {
          "base_uri": "https://localhost:8080/"
        },
        "id": "HhWkIo1QBo9B",
        "outputId": "3a7033f9-b3f3-42d0-8cf0-947ec3431925"
      },
      "execution_count": null,
      "outputs": [
        {
          "output_type": "stream",
          "name": "stdout",
          "text": [
            "<class 'tuple'>\n"
          ]
        }
      ]
    },
    {
      "cell_type": "code",
      "source": [
        "#slicing\n",
        "print(tuple[-2])"
      ],
      "metadata": {
        "colab": {
          "base_uri": "https://localhost:8080/"
        },
        "id": "shvvGUeGB1Wg",
        "outputId": "08533c7f-3cfe-494f-86f8-7ad4cd5fb77c"
      },
      "execution_count": null,
      "outputs": [
        {
          "output_type": "stream",
          "name": "stdout",
          "text": [
            "12.4\n"
          ]
        }
      ]
    },
    {
      "cell_type": "code",
      "source": [
        "print(tuple[:-2])"
      ],
      "metadata": {
        "colab": {
          "base_uri": "https://localhost:8080/"
        },
        "id": "8pIcd_mqCAdF",
        "outputId": "99764ccc-70d8-4672-f580-3e92f194d9fd"
      },
      "execution_count": null,
      "outputs": [
        {
          "output_type": "stream",
          "name": "stdout",
          "text": [
            "('upes', 10)\n"
          ]
        }
      ]
    },
    {
      "cell_type": "code",
      "source": [
        "print(tuple.count(10))"
      ],
      "metadata": {
        "colab": {
          "base_uri": "https://localhost:8080/"
        },
        "id": "tfRAD4tzCIoU",
        "outputId": "f9521cad-4ce9-4899-81da-4530acac1ae0"
      },
      "execution_count": null,
      "outputs": [
        {
          "output_type": "stream",
          "name": "stdout",
          "text": [
            "1\n"
          ]
        }
      ]
    },
    {
      "cell_type": "code",
      "source": [
        "print(tuple.index(10))"
      ],
      "metadata": {
        "colab": {
          "base_uri": "https://localhost:8080/"
        },
        "id": "OyQqQK-mCpUv",
        "outputId": "610d4370-a1d4-4fcb-c359-df8a5f0f076a"
      },
      "execution_count": null,
      "outputs": [
        {
          "output_type": "stream",
          "name": "stdout",
          "text": [
            "1\n"
          ]
        }
      ]
    },
    {
      "cell_type": "code",
      "source": [
        "set1 = {1,34,-23,\"upes\",-1,-23}\n",
        "print(set1)"
      ],
      "metadata": {
        "colab": {
          "base_uri": "https://localhost:8080/"
        },
        "id": "H0pPVzy_C8OJ",
        "outputId": "7647013d-47a7-45fe-8e55-16518ce994e8"
      },
      "execution_count": null,
      "outputs": [
        {
          "output_type": "stream",
          "name": "stdout",
          "text": [
            "{1, 34, -23, 'upes', -1}\n"
          ]
        }
      ]
    },
    {
      "cell_type": "code",
      "source": [
        "set1.add(99)"
      ],
      "metadata": {
        "id": "izdOUasPE6TG"
      },
      "execution_count": null,
      "outputs": []
    },
    {
      "cell_type": "code",
      "source": [
        "print(set1)"
      ],
      "metadata": {
        "colab": {
          "base_uri": "https://localhost:8080/"
        },
        "id": "NUyOInYNFIzO",
        "outputId": "42d49f01-08ac-457f-ab91-e2924a498cc9"
      },
      "execution_count": null,
      "outputs": [
        {
          "output_type": "stream",
          "name": "stdout",
          "text": [
            "{1, 34, 99, -23, 'upes', -1}\n"
          ]
        }
      ]
    },
    {
      "cell_type": "code",
      "source": [
        "set1.clear()\n",
        "print(set1)"
      ],
      "metadata": {
        "colab": {
          "base_uri": "https://localhost:8080/"
        },
        "id": "RYB_UUggFUkC",
        "outputId": "ba9c1d74-892c-43b1-aa74-0e8fe2348921"
      },
      "execution_count": null,
      "outputs": [
        {
          "output_type": "stream",
          "name": "stdout",
          "text": [
            "set()\n"
          ]
        }
      ]
    },
    {
      "cell_type": "code",
      "source": [
        "set2 = ()"
      ],
      "metadata": {
        "id": "2eIYGm9QFegr"
      },
      "execution_count": null,
      "outputs": []
    },
    {
      "cell_type": "code",
      "source": [
        "print(type(set2))"
      ],
      "metadata": {
        "colab": {
          "base_uri": "https://localhost:8080/"
        },
        "id": "yIM-xFUVF90U",
        "outputId": "a0ec72a7-ab17-4b48-e6e9-dd87c261b41d"
      },
      "execution_count": null,
      "outputs": [
        {
          "output_type": "stream",
          "name": "stdout",
          "text": [
            "<class 'tuple'>\n"
          ]
        }
      ]
    },
    {
      "cell_type": "code",
      "source": [
        "ss=set()"
      ],
      "metadata": {
        "id": "TyhW0PFPGNrQ"
      },
      "execution_count": null,
      "outputs": []
    },
    {
      "cell_type": "code",
      "source": [
        "print(type(ss))"
      ],
      "metadata": {
        "colab": {
          "base_uri": "https://localhost:8080/"
        },
        "id": "ZtU1NJliGRRl",
        "outputId": "5ed8d18c-2ea6-4865-fe26-558c6367f90e"
      },
      "execution_count": null,
      "outputs": [
        {
          "output_type": "stream",
          "name": "stdout",
          "text": [
            "<class 'set'>\n"
          ]
        }
      ]
    },
    {
      "cell_type": "code",
      "source": [
        "set2 = {1,2,3,4,5,67,89, True, \"upes\", \"python\"}"
      ],
      "metadata": {
        "id": "z_0KmEIaGXcl"
      },
      "execution_count": null,
      "outputs": []
    },
    {
      "cell_type": "code",
      "source": [
        "set2.pop()"
      ],
      "metadata": {
        "colab": {
          "base_uri": "https://localhost:8080/"
        },
        "id": "0pfGkZjgGnnt",
        "outputId": "8f6b0881-50bc-4d6b-ab14-bdc0f7a1d5bb"
      },
      "execution_count": null,
      "outputs": [
        {
          "output_type": "execute_result",
          "data": {
            "text/plain": [
              "1"
            ]
          },
          "metadata": {},
          "execution_count": 60
        }
      ]
    },
    {
      "cell_type": "code",
      "source": [
        "set1 = set([12,67,89,34])\n",
        "set2 = set([54,31,67,92])\n",
        "print(set1.union(set2))"
      ],
      "metadata": {
        "colab": {
          "base_uri": "https://localhost:8080/"
        },
        "id": "TaVhYCyyU6f4",
        "outputId": "b38c6da6-489f-4d8e-f9bd-60e5cac5e3b1"
      },
      "execution_count": null,
      "outputs": [
        {
          "output_type": "stream",
          "name": "stdout",
          "text": [
            "{34, 67, 12, 54, 89, 92, 31}\n"
          ]
        }
      ]
    },
    {
      "cell_type": "code",
      "source": [
        "set1.update(set2)"
      ],
      "metadata": {
        "id": "CCFbZOWrZIY2"
      },
      "execution_count": null,
      "outputs": []
    },
    {
      "cell_type": "code",
      "source": [
        "print(set1)"
      ],
      "metadata": {
        "colab": {
          "base_uri": "https://localhost:8080/"
        },
        "id": "RjlvGYdAZeQI",
        "outputId": "933a877d-c361-47b5-9468-973dc5d9eded"
      },
      "execution_count": null,
      "outputs": [
        {
          "output_type": "stream",
          "name": "stdout",
          "text": [
            "{34, 67, 12, 54, 89, 92, 31}\n"
          ]
        }
      ]
    },
    {
      "cell_type": "code",
      "source": [
        "set1.intersection(set2)"
      ],
      "metadata": {
        "colab": {
          "base_uri": "https://localhost:8080/"
        },
        "id": "Ik5kiKrNZ8Zt",
        "outputId": "c5badd4a-12fd-4ec5-96d8-a3720427d0b5"
      },
      "execution_count": null,
      "outputs": [
        {
          "output_type": "execute_result",
          "data": {
            "text/plain": [
              "{31, 54, 67, 92}"
            ]
          },
          "metadata": {},
          "execution_count": 64
        }
      ]
    },
    {
      "cell_type": "code",
      "source": [
        "set1 & set2"
      ],
      "metadata": {
        "colab": {
          "base_uri": "https://localhost:8080/"
        },
        "id": "4Z0_vBXYaier",
        "outputId": "f0686cd4-c772-418a-837e-bc890875191e"
      },
      "execution_count": null,
      "outputs": [
        {
          "output_type": "execute_result",
          "data": {
            "text/plain": [
              "{31, 54, 67, 92}"
            ]
          },
          "metadata": {},
          "execution_count": 65
        }
      ]
    },
    {
      "cell_type": "code",
      "source": [
        "set1.intersection_update(set2)"
      ],
      "metadata": {
        "id": "u-LBaaQ9bDz1"
      },
      "execution_count": null,
      "outputs": []
    },
    {
      "cell_type": "code",
      "source": [
        "set1"
      ],
      "metadata": {
        "colab": {
          "base_uri": "https://localhost:8080/"
        },
        "id": "KR2R3bdcbLpj",
        "outputId": "3e8cee25-1779-4917-8b75-ad28f6886eb6"
      },
      "execution_count": null,
      "outputs": [
        {
          "output_type": "execute_result",
          "data": {
            "text/plain": [
              "{31, 54, 67, 92}"
            ]
          },
          "metadata": {},
          "execution_count": 67
        }
      ]
    },
    {
      "cell_type": "code",
      "source": [
        "name = \"upes\"\n",
        "for x in name:\n",
        "  print(x)"
      ],
      "metadata": {
        "colab": {
          "base_uri": "https://localhost:8080/"
        },
        "id": "59ODX3R6f9Fs",
        "outputId": "cf279e5b-8e22-49a8-9829-ff7f8a2f4ab9"
      },
      "execution_count": null,
      "outputs": [
        {
          "output_type": "stream",
          "name": "stdout",
          "text": [
            "u\n",
            "p\n",
            "e\n",
            "s\n"
          ]
        }
      ]
    },
    {
      "cell_type": "code",
      "source": [
        "list = [\"python\",\"upes\",\"socs\"]\n",
        "for x in list:\n",
        "  print(x)"
      ],
      "metadata": {
        "colab": {
          "base_uri": "https://localhost:8080/"
        },
        "id": "vlHrVOUmiKwz",
        "outputId": "1aedc74c-9359-41fa-a76c-caa0f92ecce6"
      },
      "execution_count": null,
      "outputs": [
        {
          "output_type": "stream",
          "name": "stdout",
          "text": [
            "python\n",
            "upes\n",
            "socs\n"
          ]
        }
      ]
    },
    {
      "cell_type": "code",
      "source": [
        "numbers = [12,23,43,56,67]\n",
        "for i in numbers:\n",
        "  print(1)\n",
        "  if i == 43:\n",
        "    break\n",
        "  else:\n",
        "      print(\"the list has been executed successfully\")"
      ],
      "metadata": {
        "colab": {
          "base_uri": "https://localhost:8080/"
        },
        "id": "DjC7F47pkIiq",
        "outputId": "4ff5aced-998c-4f36-8490-ba50ee917c64"
      },
      "execution_count": null,
      "outputs": [
        {
          "output_type": "stream",
          "name": "stdout",
          "text": [
            "1\n",
            "the list has been executed successfully\n",
            "1\n",
            "the list has been executed successfully\n",
            "1\n"
          ]
        }
      ]
    },
    {
      "cell_type": "code",
      "source": [
        "list1 = [34,56,78,87]\n",
        "count = 0\n",
        "for x in list1:\n",
        "  count = count + 1\n",
        "  print(count)\n",
        "  for i in range(count):\n",
        "    list1[i] = int(list1[i])\n",
        "    print(list1)\n",
        "    total = 0\n",
        "    for i in list1:\n",
        "      total = total + i\n",
        "      print(total)\n",
        "      avg = total/count\n",
        "      print(round(avg))"
      ],
      "metadata": {
        "id": "2SLisdazkRU0",
        "colab": {
          "base_uri": "https://localhost:8080/"
        },
        "outputId": "a94097e8-8c2b-4b00-982c-4df53ddbecb1"
      },
      "execution_count": 88,
      "outputs": [
        {
          "output_type": "stream",
          "name": "stdout",
          "text": [
            "1\n",
            "[34, 56, 78, 87]\n",
            "34\n",
            "34\n",
            "90\n",
            "90\n",
            "168\n",
            "168\n",
            "255\n",
            "255\n",
            "2\n",
            "[34, 56, 78, 87]\n",
            "34\n",
            "17\n",
            "90\n",
            "45\n",
            "168\n",
            "84\n",
            "255\n",
            "128\n",
            "[34, 56, 78, 87]\n",
            "34\n",
            "17\n",
            "90\n",
            "45\n",
            "168\n",
            "84\n",
            "255\n",
            "128\n",
            "3\n",
            "[34, 56, 78, 87]\n",
            "34\n",
            "11\n",
            "90\n",
            "30\n",
            "168\n",
            "56\n",
            "255\n",
            "85\n",
            "[34, 56, 78, 87]\n",
            "34\n",
            "11\n",
            "90\n",
            "30\n",
            "168\n",
            "56\n",
            "255\n",
            "85\n",
            "[34, 56, 78, 87]\n",
            "34\n",
            "11\n",
            "90\n",
            "30\n",
            "168\n",
            "56\n",
            "255\n",
            "85\n",
            "4\n",
            "[34, 56, 78, 87]\n",
            "34\n",
            "8\n",
            "90\n",
            "22\n",
            "168\n",
            "42\n",
            "255\n",
            "64\n",
            "[34, 56, 78, 87]\n",
            "34\n",
            "8\n",
            "90\n",
            "22\n",
            "168\n",
            "42\n",
            "255\n",
            "64\n",
            "[34, 56, 78, 87]\n",
            "34\n",
            "8\n",
            "90\n",
            "22\n",
            "168\n",
            "42\n",
            "255\n",
            "64\n",
            "[34, 56, 78, 87]\n",
            "34\n",
            "8\n",
            "90\n",
            "22\n",
            "168\n",
            "42\n",
            "255\n",
            "64\n"
          ]
        }
      ]
    },
    {
      "cell_type": "code",
      "source": [
        "for i in range(2, 5):\n",
        "  print(i)"
      ],
      "metadata": {
        "id": "HHgHuIOskST-",
        "colab": {
          "base_uri": "https://localhost:8080/"
        },
        "outputId": "4b83a796-66a3-44e7-b9a9-59c3967d45b1"
      },
      "execution_count": 89,
      "outputs": [
        {
          "output_type": "stream",
          "name": "stdout",
          "text": [
            "2\n",
            "3\n",
            "4\n"
          ]
        }
      ]
    },
    {
      "cell_type": "code",
      "source": [
        "for i in range(-1,-11,-1):\n",
        "  print(i)"
      ],
      "metadata": {
        "id": "iIlMGNkmkqpf",
        "colab": {
          "base_uri": "https://localhost:8080/"
        },
        "outputId": "d1b8ecce-a354-4681-bf49-a35d2c39200a"
      },
      "execution_count": 90,
      "outputs": [
        {
          "output_type": "stream",
          "name": "stdout",
          "text": [
            "-1\n",
            "-2\n",
            "-3\n",
            "-4\n",
            "-5\n",
            "-6\n",
            "-7\n",
            "-8\n",
            "-9\n",
            "-10\n"
          ]
        }
      ]
    },
    {
      "cell_type": "code",
      "source": [
        "sum = 0\n",
        "for i in range (0, 101, 2):\n",
        "  sum = sum + i\n",
        "  print(sum)"
      ],
      "metadata": {
        "id": "ONwgadoHlI0w",
        "colab": {
          "base_uri": "https://localhost:8080/"
        },
        "outputId": "c9e39bd8-2965-4818-9c9d-98e841194602"
      },
      "execution_count": 91,
      "outputs": [
        {
          "output_type": "stream",
          "name": "stdout",
          "text": [
            "0\n",
            "2\n",
            "6\n",
            "12\n",
            "20\n",
            "30\n",
            "42\n",
            "56\n",
            "72\n",
            "90\n",
            "110\n",
            "132\n",
            "156\n",
            "182\n",
            "210\n",
            "240\n",
            "272\n",
            "306\n",
            "342\n",
            "380\n",
            "420\n",
            "462\n",
            "506\n",
            "552\n",
            "600\n",
            "650\n",
            "702\n",
            "756\n",
            "812\n",
            "870\n",
            "930\n",
            "992\n",
            "1056\n",
            "1122\n",
            "1190\n",
            "1260\n",
            "1332\n",
            "1406\n",
            "1482\n",
            "1560\n",
            "1640\n",
            "1722\n",
            "1806\n",
            "1892\n",
            "1980\n",
            "2070\n",
            "2162\n",
            "2256\n",
            "2352\n",
            "2450\n",
            "2550\n"
          ]
        }
      ]
    },
    {
      "cell_type": "code",
      "source": [
        "#fizz buzz job program\n",
        "for i in range(0 , 101 , 1):\n",
        "   if i%3 == 0 and i%5 == 0:\n",
        "     print(\"fizzbuzz\")\n",
        "   elif i % 3 == 0:\n",
        "     print(\"fizz\")\n",
        "   elif i % 5 == 0:\n",
        "     print(\"buzz\")\n",
        "   else:\n",
        "     print(i)\n"
      ],
      "metadata": {
        "id": "gLeYDRlqlXFw",
        "colab": {
          "base_uri": "https://localhost:8080/"
        },
        "outputId": "f6a3c675-a289-4718-e06b-3e56eb6f40aa"
      },
      "execution_count": 92,
      "outputs": [
        {
          "output_type": "stream",
          "name": "stdout",
          "text": [
            "fizzbuzz\n",
            "1\n",
            "2\n",
            "fizz\n",
            "4\n",
            "buzz\n",
            "fizz\n",
            "7\n",
            "8\n",
            "fizz\n",
            "buzz\n",
            "11\n",
            "fizz\n",
            "13\n",
            "14\n",
            "fizzbuzz\n",
            "16\n",
            "17\n",
            "fizz\n",
            "19\n",
            "buzz\n",
            "fizz\n",
            "22\n",
            "23\n",
            "fizz\n",
            "buzz\n",
            "26\n",
            "fizz\n",
            "28\n",
            "29\n",
            "fizzbuzz\n",
            "31\n",
            "32\n",
            "fizz\n",
            "34\n",
            "buzz\n",
            "fizz\n",
            "37\n",
            "38\n",
            "fizz\n",
            "buzz\n",
            "41\n",
            "fizz\n",
            "43\n",
            "44\n",
            "fizzbuzz\n",
            "46\n",
            "47\n",
            "fizz\n",
            "49\n",
            "buzz\n",
            "fizz\n",
            "52\n",
            "53\n",
            "fizz\n",
            "buzz\n",
            "56\n",
            "fizz\n",
            "58\n",
            "59\n",
            "fizzbuzz\n",
            "61\n",
            "62\n",
            "fizz\n",
            "64\n",
            "buzz\n",
            "fizz\n",
            "67\n",
            "68\n",
            "fizz\n",
            "buzz\n",
            "71\n",
            "fizz\n",
            "73\n",
            "74\n",
            "fizzbuzz\n",
            "76\n",
            "77\n",
            "fizz\n",
            "79\n",
            "buzz\n",
            "fizz\n",
            "82\n",
            "83\n",
            "fizz\n",
            "buzz\n",
            "86\n",
            "fizz\n",
            "88\n",
            "89\n",
            "fizzbuzz\n",
            "91\n",
            "92\n",
            "fizz\n",
            "94\n",
            "buzz\n",
            "fizz\n",
            "97\n",
            "98\n",
            "fizz\n",
            "buzz\n"
          ]
        }
      ]
    },
    {
      "cell_type": "code",
      "source": [
        "count = 5\n",
        "while count >0:\n",
        "  print(count);\n",
        "  count = count - 1\n",
        "  print(\"out from loop\")"
      ],
      "metadata": {
        "id": "b_WhwmAHBPD1",
        "colab": {
          "base_uri": "https://localhost:8080/"
        },
        "outputId": "5313fbfb-99cd-4a40-b627-67e965dbd89a"
      },
      "execution_count": 100,
      "outputs": [
        {
          "output_type": "stream",
          "name": "stdout",
          "text": [
            "5\n",
            "out from loop\n",
            "4\n",
            "out from loop\n",
            "3\n",
            "out from loop\n",
            "2\n",
            "out from loop\n",
            "1\n",
            "out from loop\n"
          ]
        }
      ]
    },
    {
      "cell_type": "code",
      "source": [
        "count = 5\n",
        "while count >0:\n",
        "  print(count)\n",
        "  count = count - 1\n",
        "  if count == 3:\n",
        "    break\n",
        "  else:\n",
        "    print(\"else block counted\")\n",
        "    print(\"out of loop\")"
      ],
      "metadata": {
        "id": "65g6jF39BgcK",
        "colab": {
          "base_uri": "https://localhost:8080/"
        },
        "outputId": "8897991b-f430-491e-f54d-7d7cdc52d1a5"
      },
      "execution_count": 101,
      "outputs": [
        {
          "output_type": "stream",
          "name": "stdout",
          "text": [
            "5\n",
            "else block counted\n",
            "out of loop\n",
            "4\n"
          ]
        }
      ]
    },
    {
      "cell_type": "code",
      "source": [
        "number = int(input(\"enter the number(-1 to quit)\"))\n",
        "while number != -1:\n",
        "  print(number)\n",
        "  number = int(input(\"enter the number (-1 to quit)\"))\n",
        "else:\n",
        "  print(\"else block executed\")\n",
        "  print(\"out from the loop\")\n"
      ],
      "metadata": {
        "id": "qmBUwYTGCL5B",
        "colab": {
          "base_uri": "https://localhost:8080/"
        },
        "outputId": "5c451f5b-671a-4296-eb32-3ebc107ceab5"
      },
      "execution_count": 102,
      "outputs": [
        {
          "output_type": "stream",
          "name": "stdout",
          "text": [
            "enter the number(-1 to quit)-1\n",
            "else block executed\n",
            "out from the loop\n"
          ]
        }
      ]
    },
    {
      "cell_type": "code",
      "source": [
        "total = 0\n",
        "number = int(input(\"enter the number(0 to quit)\"))\n",
        "while number !=0:\n",
        "  total = total + number\n",
        "  number = int(input(\"enter the number(0 to quit)\"))\n",
        "  print(total)"
      ],
      "metadata": {
        "id": "rPj4IVW8DHGG",
        "colab": {
          "base_uri": "https://localhost:8080/"
        },
        "outputId": "2c8ea730-5e13-4b8c-ee01-8d07fb06ab32"
      },
      "execution_count": 103,
      "outputs": [
        {
          "name": "stdout",
          "output_type": "stream",
          "text": [
            "enter the number(0 to quit)0\n"
          ]
        }
      ]
    },
    {
      "cell_type": "code",
      "source": [
        "list = [\"hi\",\"hello\",\"welcome\"]\n",
        "name = [\"abc\",\"xyz\",\"bhumi\"]\n",
        "for item in list:\n",
        "  for i in name:\n",
        "    print(item,i)\n",
        "    if item == \"hello\" and i== \"bhumi\":\n",
        "      break\n",
        "      print(\"out from inner loop\")\n",
        "      print(\"out from outer loop\")"
      ],
      "metadata": {
        "id": "V7uFYFD_FT1Q",
        "colab": {
          "base_uri": "https://localhost:8080/"
        },
        "outputId": "7e9a92f3-7b23-410b-aab3-019584acf397"
      },
      "execution_count": 104,
      "outputs": [
        {
          "output_type": "stream",
          "name": "stdout",
          "text": [
            "hi abc\n",
            "hi xyz\n",
            "hi bhumi\n",
            "hello abc\n",
            "hello xyz\n",
            "hello bhumi\n",
            "welcome abc\n",
            "welcome xyz\n",
            "welcome bhumi\n"
          ]
        }
      ]
    },
    {
      "cell_type": "code",
      "source": [
        "count1 = 0\n",
        "while count1 < 10:\n",
        "  print(count1)\n",
        "  count1 +=1\n",
        "  if count1 == 7:\n",
        "    continue\n",
        "  print(\" hi \")\n",
        "  print(\"done\")"
      ],
      "metadata": {
        "id": "BeLpldnRHXvD",
        "colab": {
          "base_uri": "https://localhost:8080/"
        },
        "outputId": "729c9b7e-a2a1-4d7a-dd0f-e6722200121c"
      },
      "execution_count": 105,
      "outputs": [
        {
          "output_type": "stream",
          "name": "stdout",
          "text": [
            "0\n",
            " hi \n",
            "done\n",
            "1\n",
            " hi \n",
            "done\n",
            "2\n",
            " hi \n",
            "done\n",
            "3\n",
            " hi \n",
            "done\n",
            "4\n",
            " hi \n",
            "done\n",
            "5\n",
            " hi \n",
            "done\n",
            "6\n",
            "7\n",
            " hi \n",
            "done\n",
            "8\n",
            " hi \n",
            "done\n",
            "9\n",
            " hi \n",
            "done\n"
          ]
        }
      ]
    },
    {
      "cell_type": "code",
      "source": [
        "for letter in \"hello\":\n",
        "  pass\n",
        "  print(\"pass:\",letter)\n",
        "print(\"done\")"
      ],
      "metadata": {
        "id": "7T38b_TWJzUO",
        "colab": {
          "base_uri": "https://localhost:8080/"
        },
        "outputId": "d6a48219-08dd-4e2c-df46-7d0e6cce05c2"
      },
      "execution_count": 106,
      "outputs": [
        {
          "output_type": "stream",
          "name": "stdout",
          "text": [
            "pass: h\n",
            "pass: e\n",
            "pass: l\n",
            "pass: l\n",
            "pass: o\n",
            "done\n"
          ]
        }
      ]
    },
    {
      "cell_type": "code",
      "source": [
        "from datetime import *\n",
        "import pytz\n",
        "\n",
        "tz_INDIA = pytz.timezone('Asia/Kolkata')\n",
        "datetime_INDIA = datetime.now(tz_INDIA)\n",
        "print(\"INDIA time: \", datetime_INDIA.strftime(\"%H:%M:%S\"))"
      ],
      "metadata": {
        "id": "3varFVjyKgeq",
        "colab": {
          "base_uri": "https://localhost:8080/"
        },
        "outputId": "a29478e7-cbca-4563-f9dd-c27bec701e1b"
      },
      "execution_count": 107,
      "outputs": [
        {
          "output_type": "stream",
          "name": "stdout",
          "text": [
            "INDIA time:  21:09:59\n"
          ]
        }
      ]
    },
    {
      "cell_type": "code",
      "source": [
        "def function(name):\n",
        "   print(\"hi\",name)\n",
        "   print(\"are you from socs department\")\n",
        "   function(\"sir\")\n",
        "   function(\"madam\")"
      ],
      "metadata": {
        "id": "ugTOaFrobSRW"
      },
      "execution_count": 108,
      "outputs": []
    },
    {
      "cell_type": "code",
      "source": [
        "def add(x,y):\n",
        "  add = x + y\n",
        "  print(f\"sum is {add}\")\n",
        "add(4,3)"
      ],
      "metadata": {
        "id": "ZnSIbY3Ve9_M",
        "colab": {
          "base_uri": "https://localhost:8080/"
        },
        "outputId": "2a43a2a8-c064-4812-e706-a7134a45dcc6"
      },
      "execution_count": 109,
      "outputs": [
        {
          "output_type": "stream",
          "name": "stdout",
          "text": [
            "sum is 7\n"
          ]
        }
      ]
    },
    {
      "cell_type": "code",
      "source": [
        "def UPES(name,dept):\n",
        "  print(f\"hi {name}\")\n",
        "  print(f\"are you from {dept} department\")\n",
        "UPES( name = \"bhumi\", dept = \"socs\")"
      ],
      "metadata": {
        "id": "iJ4LVQFUf4Bz",
        "colab": {
          "base_uri": "https://localhost:8080/"
        },
        "outputId": "713b923e-b8e2-4056-b5ac-3ddc70b617bf"
      },
      "execution_count": 110,
      "outputs": [
        {
          "output_type": "stream",
          "name": "stdout",
          "text": [
            "hi bhumi\n",
            "are you from socs department\n"
          ]
        }
      ]
    },
    {
      "cell_type": "code",
      "source": [
        "def UPES1(name,student,dept = \"socs\"):\n",
        "  print(f\"hi {name}\")\n",
        "  print(f\" i am {student}\")\n",
        "  print(f\"are you from {dept} department\")\n",
        "UPES1(\"bhumi\",\"abc\", \"socs\")"
      ],
      "metadata": {
        "id": "gT-L4_m7hTiq",
        "colab": {
          "base_uri": "https://localhost:8080/"
        },
        "outputId": "776fb645-0f77-43d9-8cc4-126c8b27efdd"
      },
      "execution_count": 111,
      "outputs": [
        {
          "output_type": "stream",
          "name": "stdout",
          "text": [
            "hi bhumi\n",
            " i am abc\n",
            "are you from socs department\n"
          ]
        }
      ]
    },
    {
      "cell_type": "code",
      "source": [
        "def add1(*numbers):\n",
        "  c = 0\n",
        "  for i in numbers:\n",
        "    c = c + i\n",
        "  print(f\"addition is {c}\")\n",
        "add1(23,56,34,78)"
      ],
      "metadata": {
        "id": "4Gc4S0jbkZe6",
        "colab": {
          "base_uri": "https://localhost:8080/"
        },
        "outputId": "457287ff-fb7b-4e8b-e55a-73c420b58703"
      },
      "execution_count": 112,
      "outputs": [
        {
          "output_type": "stream",
          "name": "stdout",
          "text": [
            "addition is 191\n"
          ]
        }
      ]
    },
    {
      "cell_type": "code",
      "source": [
        "def add1(*args):\n",
        "  sum1 = 0\n",
        "  for i in args:\n",
        "    sum1 = sum1 + i\n",
        "    print(f\"sum is {sum1}\")\n",
        "add1(23,56,78)\n",
        "add1(67,90,23,45,12)"
      ],
      "metadata": {
        "id": "nH-xgtmalBI2",
        "colab": {
          "base_uri": "https://localhost:8080/"
        },
        "outputId": "ad62ca36-6d17-4a5f-8a8f-ef79184f73be"
      },
      "execution_count": 113,
      "outputs": [
        {
          "output_type": "stream",
          "name": "stdout",
          "text": [
            "sum is 23\n",
            "sum is 79\n",
            "sum is 157\n",
            "sum is 67\n",
            "sum is 157\n",
            "sum is 180\n",
            "sum is 225\n",
            "sum is 237\n"
          ]
        }
      ]
    },
    {
      "cell_type": "code",
      "source": [
        "import random\n",
        "import string\n",
        "\n",
        "def generate_password(length):\n",
        "    characters = string.ascii_letters + string.digits + string.punctuation\n",
        "    password = ''.join(random.choice(characters) for _ in range(length))\n",
        "    return password\n",
        "\n",
        "# Get the desired length of the password from the user\n",
        "length = int(input(\"Enter the length of the password: \"))\n",
        "\n",
        "# Generate and print the password\n",
        "password = generate_password(length)\n",
        "print(\"Generated password:\", password)"
      ],
      "metadata": {
        "colab": {
          "base_uri": "https://localhost:8080/"
        },
        "id": "162JUKhd3dAY",
        "outputId": "0dceacf8-e394-45d5-cc2b-2ab808f5dfc6"
      },
      "execution_count": 191,
      "outputs": [
        {
          "output_type": "stream",
          "name": "stdout",
          "text": [
            "Enter the length of the password: 15\n",
            "Generated password: )Yv%y^S?KnhNc+~\n"
          ]
        }
      ]
    },
    {
      "cell_type": "code",
      "source": [
        "def add2(*numbers):\n",
        "  sum2 = 0\n",
        "  print(numbers[0])\n",
        "  for i in numbers:\n",
        "    sum2 = sum2 + i\n",
        "    print(f\"sum is {sum2}\")\n",
        "add2(13,45,67,23)\n",
        "add2(67,98,67,23,17)"
      ],
      "metadata": {
        "id": "cZfAa4w5ogYE",
        "colab": {
          "base_uri": "https://localhost:8080/"
        },
        "outputId": "e3e19b3b-b836-4efb-eea3-0ed92f8d94da"
      },
      "execution_count": 114,
      "outputs": [
        {
          "output_type": "stream",
          "name": "stdout",
          "text": [
            "13\n",
            "sum is 13\n",
            "sum is 58\n",
            "sum is 125\n",
            "sum is 148\n",
            "67\n",
            "sum is 67\n",
            "sum is 165\n",
            "sum is 232\n",
            "sum is 255\n",
            "sum is 272\n"
          ]
        }
      ]
    },
    {
      "cell_type": "code",
      "source": [
        "def xyz (*num,name):\n",
        "  sum4 = 0\n",
        "  print(num)\n",
        "  print(name)\n",
        "\n",
        "  for i in num:\n",
        "    sum4 = sum4 + i\n",
        "  print(f\"sum is {sum4}\")\n",
        "xyz(1,2, name = \"bhumi\")"
      ],
      "metadata": {
        "id": "O2e_IV2DpFzN",
        "colab": {
          "base_uri": "https://localhost:8080/"
        },
        "outputId": "07c4e6e0-b5cd-4735-c6d1-2586cc8051c4"
      },
      "execution_count": 115,
      "outputs": [
        {
          "output_type": "stream",
          "name": "stdout",
          "text": [
            "(1, 2)\n",
            "bhumi\n",
            "sum is 3\n"
          ]
        }
      ]
    },
    {
      "cell_type": "code",
      "source": [
        "def info_person(**kwargs):\n",
        "  for i, j in kwargs.items():\n",
        "    print(i,j)\n",
        "\n",
        "info_person (name = \"abc\" ,age = 30, dept =\"socs\")\n",
        "info_person( name = \"xyz\", dept = \"soA\")"
      ],
      "metadata": {
        "id": "KS5yMaozppmk",
        "colab": {
          "base_uri": "https://localhost:8080/"
        },
        "outputId": "2b884ebe-71dc-4bc1-cf05-18489d9277a0"
      },
      "execution_count": 116,
      "outputs": [
        {
          "output_type": "stream",
          "name": "stdout",
          "text": [
            "name abc\n",
            "age 30\n",
            "dept socs\n",
            "name xyz\n",
            "dept soA\n"
          ]
        }
      ]
    },
    {
      "cell_type": "code",
      "source": [
        "#paint the wall\n",
        "#1 can = 7 sq.mtr\n",
        "#import math\n",
        "def paint_calculation(height, width, cover):\n",
        "  area = height * width\n",
        "  no_of_cans = area/cover\n",
        "  #no_of_cans = math.cell(area/cover)\n",
        "  print(f\"you will need {no_of_cans} cans to paint\")\n",
        "h =int(input(\"enter the height of wall\"))\n",
        "w =int(input(\"enter the width of wall\"))\n",
        "coverage = 6\n",
        "paint_calculation(height = h, width = w,cover = coverage)"
      ],
      "metadata": {
        "id": "uwsb7vgwhHo7",
        "colab": {
          "base_uri": "https://localhost:8080/"
        },
        "outputId": "1a30f4f2-d497-40d7-91df-ab7e6aeb919c"
      },
      "execution_count": 117,
      "outputs": [
        {
          "output_type": "stream",
          "name": "stdout",
          "text": [
            "enter the height of wall23\n",
            "enter the width of wall45\n",
            "you will need 172.5 cans to paint\n"
          ]
        }
      ]
    },
    {
      "cell_type": "code",
      "source": [
        "num = int(input(\"enter a number: \"))\n",
        "\n",
        "flag = False\n",
        "if num == 1:\n",
        "    print(num, \"is not a prime number\")\n",
        "elif num > 1:\n",
        "    for i in range(2, num):\n",
        "        if (num % i) == 0:\n",
        "            flag = True\n",
        "            break\n",
        "if flag:\n",
        "    print(num, \"is not a prime number\")\n",
        "else:\n",
        "    print(num, \"is a prime number\")"
      ],
      "metadata": {
        "id": "PCLoKf7VqMkH",
        "colab": {
          "base_uri": "https://localhost:8080/"
        },
        "outputId": "ffda383c-875c-4dda-e29d-1f05fa3ad14d"
      },
      "execution_count": 118,
      "outputs": [
        {
          "output_type": "stream",
          "name": "stdout",
          "text": [
            "enter a number: 34\n",
            "34 is not a prime number\n"
          ]
        }
      ]
    },
    {
      "cell_type": "code",
      "source": [
        "alphabet =['a','b','c','d','e','f','g','h','i','j','k','l','m','n','o','p','q','r','s','t','u','v','w','x','y','z']\n",
        "\n",
        "def encryption(plain_text, shift_key):\n",
        "  cipher_text = \"\"\n",
        "  for char in plain_text: #hello\n",
        "   position = alphabet.index(char)\n",
        "   new_position= (position + shift_key) % 26\n",
        "   cipher_text = cipher_text + alphabet[new_position]\n",
        "  print(f\"the text after encryption is {cipher_text}\")\n",
        "\n",
        "def decryption(cipher_text, shift_key):\n",
        " plain_text = \"\"\n",
        " for char in cipher_text: #hello\n",
        "   position = alphabet.index(char)\n",
        "   new_position = (position - shift_key) % 26\n",
        "   plain_text = plain_text + alphabet[new_position]\n",
        " print(f\"the text after decryption is {plain_text}\")\n",
        "\n",
        "end = False\n",
        "while not end:\n",
        "  what_to_do = input(\"type 'encrypt' for encryption and 'decrypt' for decryption \\n \")\n",
        "  text = input(\"type your message \\n\")\n",
        "  shift = int(input(\"enter the shift key: \\n\"))\n",
        "  if what_to_do == \"encrypt\":\n",
        "    encryption(plain_text = text, shift_key = shift)\n",
        "\n",
        "  elif what_to_do == \"decrypt\":\n",
        "    decryption(text,shift)\n",
        "  play_again = input(\"type 'yes' to continue and 'no' to terminate \")\n",
        "  if play_again == 'no':\n",
        "     end = True\n",
        "     print(\"have a nice day : Bye!\")"
      ],
      "metadata": {
        "id": "mgWcLcVQq0AX",
        "colab": {
          "base_uri": "https://localhost:8080/"
        },
        "outputId": "eb4352e5-8247-41ed-f91f-581786c5c692"
      },
      "execution_count": 145,
      "outputs": [
        {
          "output_type": "stream",
          "name": "stdout",
          "text": [
            "type 'encrypt' for encryption and 'decrypt' for decryption \n",
            " encrypt\n",
            "type your message \n",
            "hello\n",
            "enter the shift key: \n",
            "3\n",
            "the text after encryption is khoor\n",
            "type 'yes' to continue and 'no' to terminate yes\n",
            "type 'encrypt' for encryption and 'decrypt' for decryption \n",
            " decrypt\n",
            "type your message \n",
            "khoor\n",
            "enter the shift key: \n",
            "3\n",
            "the text after decryption is hello\n",
            "type 'yes' to continue and 'no' to terminate no\n",
            "have a nice day : Bye!\n"
          ]
        }
      ]
    },
    {
      "cell_type": "code",
      "source": [
        "ph_no = {\n",
        "    'ram': 12345,\n",
        "    'sham': 3456,\n",
        "    'mohan': 6789\n",
        "}\n",
        "print(ph_no)"
      ],
      "metadata": {
        "id": "_LITHa8pmu41",
        "colab": {
          "base_uri": "https://localhost:8080/"
        },
        "outputId": "54abb2ee-c195-4b09-fcd3-ac0c5a513a66"
      },
      "execution_count": 121,
      "outputs": [
        {
          "output_type": "stream",
          "name": "stdout",
          "text": [
            "{'ram': 12345, 'sham': 3456, 'mohan': 6789}\n"
          ]
        }
      ]
    },
    {
      "cell_type": "code",
      "source": [
        "print(ph_no[\"ram\"])"
      ],
      "metadata": {
        "id": "xYlJyVLooprG",
        "colab": {
          "base_uri": "https://localhost:8080/"
        },
        "outputId": "8ab85dbb-afe6-4596-beb6-2f72284b7166"
      },
      "execution_count": 122,
      "outputs": [
        {
          "output_type": "stream",
          "name": "stdout",
          "text": [
            "12345\n"
          ]
        }
      ]
    },
    {
      "cell_type": "code",
      "source": [
        "phone_no = dict( {\n",
        "    'ram': 1234,\n",
        "    'sham': 5670,\n",
        "    'mohan': 876\n",
        "})"
      ],
      "metadata": {
        "id": "vh2GXFoIpRAv"
      },
      "execution_count": 123,
      "outputs": []
    },
    {
      "cell_type": "code",
      "source": [
        "print(phone_no)"
      ],
      "metadata": {
        "id": "ioXXvJ_wpsbZ",
        "colab": {
          "base_uri": "https://localhost:8080/"
        },
        "outputId": "b9f9e329-e89c-4e9e-cacb-21da87b4fb73"
      },
      "execution_count": 124,
      "outputs": [
        {
          "output_type": "stream",
          "name": "stdout",
          "text": [
            "{'ram': 1234, 'sham': 5670, 'mohan': 876}\n"
          ]
        }
      ]
    },
    {
      "cell_type": "code",
      "source": [
        "phone_no[\"mohan\"] = 9999"
      ],
      "metadata": {
        "id": "YTBiXfBapvnE"
      },
      "execution_count": 130,
      "outputs": []
    },
    {
      "cell_type": "code",
      "source": [
        "print(phone_no)"
      ],
      "metadata": {
        "id": "yuvpLM0jp45V",
        "colab": {
          "base_uri": "https://localhost:8080/"
        },
        "outputId": "bc5a11c9-9df8-49bb-b8c2-11c7312c006a"
      },
      "execution_count": 128,
      "outputs": [
        {
          "output_type": "stream",
          "name": "stdout",
          "text": [
            "{'ram': 1234, 'sham': 5670, 'mohan': {444, 333, 222, 111}}\n"
          ]
        }
      ]
    },
    {
      "cell_type": "code",
      "source": [
        "phone_no[\"mohan\"] = {111,222,333,444}"
      ],
      "metadata": {
        "id": "jNQFvIiEp78a"
      },
      "execution_count": 129,
      "outputs": []
    },
    {
      "cell_type": "code",
      "source": [
        "print(phone_no)"
      ],
      "metadata": {
        "id": "Ic8PBc4YqKv8",
        "colab": {
          "base_uri": "https://localhost:8080/"
        },
        "outputId": "0a90692d-5400-4f68-ab38-fd7fb219e650"
      },
      "execution_count": 131,
      "outputs": [
        {
          "output_type": "stream",
          "name": "stdout",
          "text": [
            "{'ram': 1234, 'sham': 5670, 'mohan': 9999}\n"
          ]
        }
      ]
    },
    {
      "cell_type": "code",
      "source": [
        "data = {\n",
        "    1: \"upes\",\n",
        "    2: \"python\",\n",
        "    0: \"socs\"\n",
        "}"
      ],
      "metadata": {
        "id": "5lmmJHTSqa_-"
      },
      "execution_count": 132,
      "outputs": []
    },
    {
      "cell_type": "code",
      "source": [
        "print(data[0])"
      ],
      "metadata": {
        "id": "Aixzxl7Jr4F4",
        "colab": {
          "base_uri": "https://localhost:8080/"
        },
        "outputId": "4967af7d-cd8d-4376-c7a4-97aa8be4b25a"
      },
      "execution_count": 133,
      "outputs": [
        {
          "output_type": "stream",
          "name": "stdout",
          "text": [
            "socs\n"
          ]
        }
      ]
    },
    {
      "cell_type": "code",
      "source": [
        "phone_no.pop('sham')"
      ],
      "metadata": {
        "id": "xDpnrvu7sTmi",
        "colab": {
          "base_uri": "https://localhost:8080/"
        },
        "outputId": "a13fcadb-ec3c-4a1d-a48e-63db1b8d4e85"
      },
      "execution_count": 134,
      "outputs": [
        {
          "output_type": "execute_result",
          "data": {
            "text/plain": [
              "5670"
            ]
          },
          "metadata": {},
          "execution_count": 134
        }
      ]
    },
    {
      "cell_type": "code",
      "source": [
        "del data[1]"
      ],
      "metadata": {
        "id": "da79veSisqyC"
      },
      "execution_count": 135,
      "outputs": []
    },
    {
      "cell_type": "code",
      "source": [
        "print(data)"
      ],
      "metadata": {
        "id": "ljIgpQI3ulD9",
        "colab": {
          "base_uri": "https://localhost:8080/"
        },
        "outputId": "2bbb9c3a-4fe4-46bb-ea06-0d3dfc88635d"
      },
      "execution_count": 136,
      "outputs": [
        {
          "output_type": "stream",
          "name": "stdout",
          "text": [
            "{2: 'python', 0: 'socs'}\n"
          ]
        }
      ]
    },
    {
      "cell_type": "code",
      "source": [
        "data.pop(2)"
      ],
      "metadata": {
        "id": "Wklvb41cutHF",
        "colab": {
          "base_uri": "https://localhost:8080/",
          "height": 36
        },
        "outputId": "03ff9836-ca5d-4bbd-c094-6929fd61a11a"
      },
      "execution_count": 140,
      "outputs": [
        {
          "output_type": "execute_result",
          "data": {
            "text/plain": [
              "'python'"
            ],
            "application/vnd.google.colaboratory.intrinsic+json": {
              "type": "string"
            }
          },
          "metadata": {},
          "execution_count": 140
        }
      ]
    },
    {
      "cell_type": "code",
      "source": [
        "print(data)"
      ],
      "metadata": {
        "id": "DdXrLnDcuzHf",
        "colab": {
          "base_uri": "https://localhost:8080/"
        },
        "outputId": "73632f76-b0a0-436d-d6e9-0a04eba72dfb"
      },
      "execution_count": 139,
      "outputs": [
        {
          "output_type": "stream",
          "name": "stdout",
          "text": [
            "{2: 'python', 0: 'socs'}\n"
          ]
        }
      ]
    },
    {
      "cell_type": "code",
      "source": [
        "print(phone_no)"
      ],
      "metadata": {
        "id": "cILqpeHrvMac",
        "colab": {
          "base_uri": "https://localhost:8080/"
        },
        "outputId": "4577d2d9-cd88-4720-a01c-3febcfbf76a6"
      },
      "execution_count": 141,
      "outputs": [
        {
          "output_type": "stream",
          "name": "stdout",
          "text": [
            "{}\n"
          ]
        }
      ]
    },
    {
      "cell_type": "code",
      "source": [
        "phone_no.clear()"
      ],
      "metadata": {
        "id": "cMLWOGD6vQw3"
      },
      "execution_count": 142,
      "outputs": []
    },
    {
      "cell_type": "code",
      "source": [
        "print(phone_no)"
      ],
      "metadata": {
        "id": "KvZWcrMova6F",
        "colab": {
          "base_uri": "https://localhost:8080/"
        },
        "outputId": "85543743-9504-4ce6-f149-c8e3d4076c45"
      },
      "execution_count": 143,
      "outputs": [
        {
          "output_type": "stream",
          "name": "stdout",
          "text": [
            "{}\n"
          ]
        }
      ]
    },
    {
      "cell_type": "code",
      "source": [
        "print(data.values())"
      ],
      "metadata": {
        "id": "lkiiBEGevd8m",
        "colab": {
          "base_uri": "https://localhost:8080/"
        },
        "outputId": "3962e9a4-7427-4f6e-eb6c-7ebbd18bc1c8"
      },
      "execution_count": 146,
      "outputs": [
        {
          "output_type": "stream",
          "name": "stdout",
          "text": [
            "dict_values(['socs'])\n"
          ]
        }
      ]
    },
    {
      "cell_type": "code",
      "source": [
        "for i in data:\n",
        "  print(i)\n",
        "  #print(data[i])"
      ],
      "metadata": {
        "id": "3bYU-tAcwCch",
        "colab": {
          "base_uri": "https://localhost:8080/"
        },
        "outputId": "3531b7f1-3db9-4feb-d8a1-1e824dec7f93"
      },
      "execution_count": 147,
      "outputs": [
        {
          "output_type": "stream",
          "name": "stdout",
          "text": [
            "0\n"
          ]
        }
      ]
    },
    {
      "cell_type": "code",
      "source": [
        "for i in data:\n",
        "  print(i)\n",
        "print(data[i])"
      ],
      "metadata": {
        "id": "MsaBslgwwkYG",
        "colab": {
          "base_uri": "https://localhost:8080/"
        },
        "outputId": "305ee3d6-40d6-4f8a-d4d2-a989300ef95c"
      },
      "execution_count": 148,
      "outputs": [
        {
          "output_type": "stream",
          "name": "stdout",
          "text": [
            "0\n",
            "socs\n"
          ]
        }
      ]
    },
    {
      "cell_type": "code",
      "source": [
        "data = {\n",
        "    1: \"upes\",\n",
        "    2: \"python\",\n",
        "    0: \"socs\"\n",
        "}"
      ],
      "metadata": {
        "id": "Y4REUaJwxIrf"
      },
      "execution_count": 149,
      "outputs": []
    },
    {
      "cell_type": "code",
      "source": [
        "print(data)"
      ],
      "metadata": {
        "id": "SW8AeVZrxNX0",
        "colab": {
          "base_uri": "https://localhost:8080/"
        },
        "outputId": "d76fe8ee-91dc-4101-848b-fda35f27b405"
      },
      "execution_count": 150,
      "outputs": [
        {
          "output_type": "stream",
          "name": "stdout",
          "text": [
            "{1: 'upes', 2: 'python', 0: 'socs'}\n"
          ]
        }
      ]
    },
    {
      "cell_type": "code",
      "source": [
        "print(data.items())"
      ],
      "metadata": {
        "id": "UL4fqkNpxQ2z",
        "colab": {
          "base_uri": "https://localhost:8080/"
        },
        "outputId": "744b495f-b253-4d18-fc1f-776d888e59cb"
      },
      "execution_count": 151,
      "outputs": [
        {
          "output_type": "stream",
          "name": "stdout",
          "text": [
            "dict_items([(1, 'upes'), (2, 'python'), (0, 'socs')])\n"
          ]
        }
      ]
    },
    {
      "cell_type": "code",
      "source": [
        "data2 = data.copy()\n",
        "print(data2)"
      ],
      "metadata": {
        "id": "aXVQc7Qdxeun",
        "colab": {
          "base_uri": "https://localhost:8080/"
        },
        "outputId": "e85e914a-9786-40f0-92ac-47a24bb8664f"
      },
      "execution_count": 152,
      "outputs": [
        {
          "output_type": "stream",
          "name": "stdout",
          "text": [
            "{1: 'upes', 2: 'python', 0: 'socs'}\n"
          ]
        }
      ]
    },
    {
      "cell_type": "code",
      "source": [
        "for i in data.items():\n",
        "  print(i)"
      ],
      "metadata": {
        "id": "u3KwfAjnxr8D",
        "colab": {
          "base_uri": "https://localhost:8080/"
        },
        "outputId": "6cf56c0d-4c72-44b9-a761-bb32c887c825"
      },
      "execution_count": 153,
      "outputs": [
        {
          "output_type": "stream",
          "name": "stdout",
          "text": [
            "(1, 'upes')\n",
            "(2, 'python')\n",
            "(0, 'socs')\n"
          ]
        }
      ]
    },
    {
      "cell_type": "code",
      "source": [
        "#program for student marks\n",
        "student_marks = {\n",
        "    \"a\":92,\n",
        "    \"b\":85,\n",
        "    \"c\":73,\n",
        "    \"d\":65,\n",
        "    \"x\":55,\n",
        "    \"y\":41,\n",
        "}\n",
        "student_grades = {}\n",
        "for student in student_marks:\n",
        "  marks = student_marks[student]\n",
        "  if marks > 90:\n",
        "    student_grades[student] = \"O\"\n",
        "  elif marks > 80:\n",
        "    student_grades[student] = \"A+\"\n",
        "  elif marks > 70:\n",
        "    student_grades[student] = \"A\"\n",
        "  elif marks > 60:\n",
        "    student_grades[student] = \"B+\"\n",
        "  elif marks > 50:\n",
        "    student_grades[student] = \"B\"\n",
        "  elif marks > 40:\n",
        "    student_grades[student] = \"C\"\n",
        "    print(student_grades)\n"
      ],
      "metadata": {
        "id": "bnpn5RcsykGg",
        "colab": {
          "base_uri": "https://localhost:8080/"
        },
        "outputId": "1265cd21-9ba2-46ab-d9de-1843e34bc6cc"
      },
      "execution_count": 154,
      "outputs": [
        {
          "output_type": "stream",
          "name": "stdout",
          "text": [
            "{'a': 'O', 'b': 'A+', 'c': 'A', 'd': 'B+', 'x': 'B', 'y': 'C'}\n"
          ]
        }
      ]
    },
    {
      "cell_type": "code",
      "source": [
        "def add(a,b):\n",
        "  c = a + b\n",
        "  return\n",
        "  #return c\n",
        "result = add(3,4)\n",
        "print(result)"
      ],
      "metadata": {
        "id": "qN8wpEW13Pl5",
        "colab": {
          "base_uri": "https://localhost:8080/"
        },
        "outputId": "ed5e0c63-250f-4d89-fec2-5ab587532a74"
      },
      "execution_count": 155,
      "outputs": [
        {
          "output_type": "stream",
          "name": "stdout",
          "text": [
            "None\n"
          ]
        }
      ]
    },
    {
      "cell_type": "code",
      "source": [
        "def format_name(f_name,l_name):\n",
        " x = f_name.title()\n",
        " y = l_name.title()\n",
        " print(f\"{x} {y}\")\n",
        "\n",
        "format_name('BHUMI','ABC')"
      ],
      "metadata": {
        "id": "3VDludgmIakl",
        "colab": {
          "base_uri": "https://localhost:8080/"
        },
        "outputId": "5ca8c5f9-fc66-4440-83f3-bae9280b4310"
      },
      "execution_count": 156,
      "outputs": [
        {
          "output_type": "stream",
          "name": "stdout",
          "text": [
            "Bhumi Abc\n"
          ]
        }
      ]
    },
    {
      "cell_type": "code",
      "source": [
        "import statistics\n",
        "def MMM (list1):\n",
        "  return statistics.mean(list1), statistics.median(list1), statistics.mode(list1)\n",
        "  print(\"we are about to complete two chapters\")\n",
        "\n",
        "a,b,c = MMM([23,56,78,28,67])\n",
        "print(f\"mean is {a} \\n median is {b} \\n mode is {c}\")"
      ],
      "metadata": {
        "id": "mh9Rpp_CJ98h",
        "colab": {
          "base_uri": "https://localhost:8080/"
        },
        "outputId": "c78f2b3c-e091-4442-e330-48a586405cf6"
      },
      "execution_count": 157,
      "outputs": [
        {
          "output_type": "stream",
          "name": "stdout",
          "text": [
            "mean is 50.4 \n",
            " median is 56 \n",
            " mode is 23\n"
          ]
        }
      ]
    },
    {
      "cell_type": "code",
      "source": [
        "def add2(a,b):\n",
        "  #if a == 0 & b == 0:\n",
        "  if a == 0 and b == 0:\n",
        "    return\n",
        "  else:\n",
        "    return a + b\n",
        "x = int(input(\"enter the value for a\"))\n",
        "y = int(input(\"enter the value of b\"))\n",
        "\n",
        "result = add2(x,y)\n",
        "print(result)"
      ],
      "metadata": {
        "id": "eQQyi_SmLKgn",
        "colab": {
          "base_uri": "https://localhost:8080/"
        },
        "outputId": "2014239f-66f9-4004-d964-514a9edf4b33"
      },
      "execution_count": 158,
      "outputs": [
        {
          "output_type": "stream",
          "name": "stdout",
          "text": [
            "enter the value for a23\n",
            "enter the value of b45\n",
            "68\n"
          ]
        }
      ]
    },
    {
      "cell_type": "code",
      "source": [
        "def function(a,b):\n",
        "  c = a + b\n",
        "  return c\n",
        "output = function(5,4)\n",
        "print(output)"
      ],
      "metadata": {
        "id": "T3y2iLnEM9GM",
        "colab": {
          "base_uri": "https://localhost:8080/"
        },
        "outputId": "6c31d5cd-9d0c-4f98-ef10-a5628e56b1db"
      },
      "execution_count": 160,
      "outputs": [
        {
          "output_type": "stream",
          "name": "stdout",
          "text": [
            "9\n"
          ]
        }
      ]
    },
    {
      "cell_type": "code",
      "source": [
        "def function1(x):\n",
        "  d = x + 5\n",
        "  return d\n",
        "output1 = function1(output)\n",
        "print(output1)"
      ],
      "metadata": {
        "id": "LfifUmAvOEL3",
        "colab": {
          "base_uri": "https://localhost:8080/"
        },
        "outputId": "d0a12b86-b04f-44e4-e5b4-6098811de58d"
      },
      "execution_count": 161,
      "outputs": [
        {
          "output_type": "stream",
          "name": "stdout",
          "text": [
            "14\n"
          ]
        }
      ]
    },
    {
      "cell_type": "code",
      "source": [
        "b = 13 #global scope\n",
        "def fun():\n",
        "  f = 12 #local scope\n",
        "  print(b)\n",
        "fun()\n",
        "#print(f)"
      ],
      "metadata": {
        "id": "iHOWSFYwOmKV",
        "colab": {
          "base_uri": "https://localhost:8080/"
        },
        "outputId": "b8aa13c9-366c-4112-a791-777d94905bb6"
      },
      "execution_count": 162,
      "outputs": [
        {
          "output_type": "stream",
          "name": "stdout",
          "text": [
            "13\n"
          ]
        }
      ]
    },
    {
      "cell_type": "code",
      "source": [
        "ab = 11\n",
        "def display():\n",
        "  ab = 111\n",
        "  def show():\n",
        "    print(ab)\n",
        "  show()\n",
        "display()"
      ],
      "metadata": {
        "id": "j1V1gmC8QCYd",
        "colab": {
          "base_uri": "https://localhost:8080/"
        },
        "outputId": "59474ba1-d732-4d1d-8c0f-6ffbdf97e9b0"
      },
      "execution_count": 163,
      "outputs": [
        {
          "output_type": "stream",
          "name": "stdout",
          "text": [
            "111\n"
          ]
        }
      ]
    },
    {
      "cell_type": "code",
      "source": [
        "def ddd():\n",
        " j  = 123\n",
        " def hhh():\n",
        "   global j\n",
        "   j =  j + 1\n",
        "   print(j)\n",
        "   hhh()\n",
        "ddd()"
      ],
      "metadata": {
        "id": "q4stLKqBQiit"
      },
      "execution_count": 164,
      "outputs": []
    },
    {
      "cell_type": "code",
      "source": [
        "def double(x):\n",
        "  return x*2\n",
        "\n",
        "print(double(5))"
      ],
      "metadata": {
        "id": "qmU5A35ISpNy",
        "colab": {
          "base_uri": "https://localhost:8080/"
        },
        "outputId": "e75819c6-3908-4c30-f435-f963fc3ec907"
      },
      "execution_count": 165,
      "outputs": [
        {
          "output_type": "stream",
          "name": "stdout",
          "text": [
            "10\n"
          ]
        }
      ]
    },
    {
      "cell_type": "code",
      "source": [
        "double = lambda x: x*2\n",
        "print(double(5))"
      ],
      "metadata": {
        "id": "q1gYk9Djy969",
        "colab": {
          "base_uri": "https://localhost:8080/"
        },
        "outputId": "2b4c5511-5056-4551-f8d1-d5d201c27212"
      },
      "execution_count": 166,
      "outputs": [
        {
          "output_type": "stream",
          "name": "stdout",
          "text": [
            "10\n"
          ]
        }
      ]
    },
    {
      "cell_type": "code",
      "source": [
        "city = [\"kota\",\"jaipur\",\"delhi\"]\n",
        "def length(city):\n",
        "  return len(city)\n",
        "sort = sorted(city,key = length)\n",
        "print(\"sorted words\",sort)"
      ],
      "metadata": {
        "id": "-7ce5nEd2e8s",
        "colab": {
          "base_uri": "https://localhost:8080/"
        },
        "outputId": "ed7e94b5-c11d-42cf-cd9a-d00750ff5c98"
      },
      "execution_count": 168,
      "outputs": [
        {
          "output_type": "stream",
          "name": "stdout",
          "text": [
            "sorted words ['kota', 'delhi', 'jaipur']\n"
          ]
        }
      ]
    },
    {
      "cell_type": "code",
      "source": [
        "city2 = [\"kota\",\"jaipur\",\"delhi\"]\n",
        "sort2 = sorted(city2, key = lambda x: len(x))\n",
        "print(sort)"
      ],
      "metadata": {
        "id": "0PJW-67C3EVB",
        "colab": {
          "base_uri": "https://localhost:8080/"
        },
        "outputId": "6263d661-f7d8-4693-b67d-e39c277a26c6"
      },
      "execution_count": 169,
      "outputs": [
        {
          "output_type": "stream",
          "name": "stdout",
          "text": [
            "['kota', 'delhi', 'jaipur']\n"
          ]
        }
      ]
    },
    {
      "cell_type": "code",
      "source": [
        "seasons = [\"spring\",\"summer\",\"fall\",\"winter\"]\n",
        "for count, season in enumerate(seasons):\n",
        "  print(count,season)"
      ],
      "metadata": {
        "id": "3B-2-MC4Gf9v",
        "colab": {
          "base_uri": "https://localhost:8080/"
        },
        "outputId": "e06b4c82-aa37-4fa4-9050-888efc14d4cd"
      },
      "execution_count": 170,
      "outputs": [
        {
          "output_type": "stream",
          "name": "stdout",
          "text": [
            "0 spring\n",
            "1 summer\n",
            "2 fall\n",
            "3 winter\n"
          ]
        }
      ]
    },
    {
      "cell_type": "code",
      "source": [
        "def hcf(a, b):\n",
        "\tif(b == 0):\n",
        "\t\treturn(a)\n",
        "\telse:\n",
        "\t\treturn hcf(b, a % b)\n",
        "\n",
        "a = 60\n",
        "b = 48\n",
        "print(\"The gcd of 60 and 48 is : \", end=\"\")\n",
        "print(hcf(60,48))"
      ],
      "metadata": {
        "id": "IEr7UQA6KLgA",
        "colab": {
          "base_uri": "https://localhost:8080/"
        },
        "outputId": "bca503ef-e477-410d-b291-126f32928349"
      },
      "execution_count": 171,
      "outputs": [
        {
          "output_type": "stream",
          "name": "stdout",
          "text": [
            "The gcd of 60 and 48 is : 12\n"
          ]
        }
      ]
    },
    {
      "cell_type": "code",
      "source": [
        "nterms = int(input(\"How many terms? \"))\n",
        "n1, n2 = 0, 1\n",
        "count = 0\n",
        "\n",
        "if nterms <= 0:\n",
        "   print(\"Please enter a positive integer\")\n",
        "elif nterms == 1:\n",
        "   print(\"Fibonacci sequence upto\",nterms,\":\")\n",
        "   print(n1)\n",
        "else:\n",
        "   print(\"Fibonacci sequence:\")\n",
        "   while count < nterms:\n",
        "       print(n1)\n",
        "       nth = n1 + n2\n",
        "\n",
        "       n1 = n2\n",
        "       n2 = nth\n",
        "       count += 1"
      ],
      "metadata": {
        "id": "B8NfmxJpN9AU",
        "colab": {
          "base_uri": "https://localhost:8080/"
        },
        "outputId": "90809c93-b7a3-4c29-e30d-89ad9c43f4b7"
      },
      "execution_count": 172,
      "outputs": [
        {
          "output_type": "stream",
          "name": "stdout",
          "text": [
            "How many terms? 34\n",
            "Fibonacci sequence:\n",
            "0\n",
            "1\n",
            "1\n",
            "2\n",
            "3\n",
            "5\n",
            "8\n",
            "13\n",
            "21\n",
            "34\n",
            "55\n",
            "89\n",
            "144\n",
            "233\n",
            "377\n",
            "610\n",
            "987\n",
            "1597\n",
            "2584\n",
            "4181\n",
            "6765\n",
            "10946\n",
            "17711\n",
            "28657\n",
            "46368\n",
            "75025\n",
            "121393\n",
            "196418\n",
            "317811\n",
            "514229\n",
            "832040\n",
            "1346269\n",
            "2178309\n",
            "3524578\n"
          ]
        }
      ]
    },
    {
      "cell_type": "code",
      "source": [
        "import math"
      ],
      "metadata": {
        "id": "IWDv7Ni7ShC_"
      },
      "execution_count": 173,
      "outputs": []
    },
    {
      "cell_type": "code",
      "source": [
        "help(\"math\")"
      ],
      "metadata": {
        "id": "rNl2OkYnSjKu",
        "colab": {
          "base_uri": "https://localhost:8080/"
        },
        "outputId": "987153ae-7aa2-42cf-8bd8-1fb0b3bf5602"
      },
      "execution_count": 174,
      "outputs": [
        {
          "output_type": "stream",
          "name": "stdout",
          "text": [
            "Help on built-in module math:\n",
            "\n",
            "NAME\n",
            "    math\n",
            "\n",
            "DESCRIPTION\n",
            "    This module provides access to the mathematical functions\n",
            "    defined by the C standard.\n",
            "\n",
            "FUNCTIONS\n",
            "    acos(x, /)\n",
            "        Return the arc cosine (measured in radians) of x.\n",
            "        \n",
            "        The result is between 0 and pi.\n",
            "    \n",
            "    acosh(x, /)\n",
            "        Return the inverse hyperbolic cosine of x.\n",
            "    \n",
            "    asin(x, /)\n",
            "        Return the arc sine (measured in radians) of x.\n",
            "        \n",
            "        The result is between -pi/2 and pi/2.\n",
            "    \n",
            "    asinh(x, /)\n",
            "        Return the inverse hyperbolic sine of x.\n",
            "    \n",
            "    atan(x, /)\n",
            "        Return the arc tangent (measured in radians) of x.\n",
            "        \n",
            "        The result is between -pi/2 and pi/2.\n",
            "    \n",
            "    atan2(y, x, /)\n",
            "        Return the arc tangent (measured in radians) of y/x.\n",
            "        \n",
            "        Unlike atan(y/x), the signs of both x and y are considered.\n",
            "    \n",
            "    atanh(x, /)\n",
            "        Return the inverse hyperbolic tangent of x.\n",
            "    \n",
            "    ceil(x, /)\n",
            "        Return the ceiling of x as an Integral.\n",
            "        \n",
            "        This is the smallest integer >= x.\n",
            "    \n",
            "    comb(n, k, /)\n",
            "        Number of ways to choose k items from n items without repetition and without order.\n",
            "        \n",
            "        Evaluates to n! / (k! * (n - k)!) when k <= n and evaluates\n",
            "        to zero when k > n.\n",
            "        \n",
            "        Also called the binomial coefficient because it is equivalent\n",
            "        to the coefficient of k-th term in polynomial expansion of the\n",
            "        expression (1 + x)**n.\n",
            "        \n",
            "        Raises TypeError if either of the arguments are not integers.\n",
            "        Raises ValueError if either of the arguments are negative.\n",
            "    \n",
            "    copysign(x, y, /)\n",
            "        Return a float with the magnitude (absolute value) of x but the sign of y.\n",
            "        \n",
            "        On platforms that support signed zeros, copysign(1.0, -0.0)\n",
            "        returns -1.0.\n",
            "    \n",
            "    cos(x, /)\n",
            "        Return the cosine of x (measured in radians).\n",
            "    \n",
            "    cosh(x, /)\n",
            "        Return the hyperbolic cosine of x.\n",
            "    \n",
            "    degrees(x, /)\n",
            "        Convert angle x from radians to degrees.\n",
            "    \n",
            "    dist(p, q, /)\n",
            "        Return the Euclidean distance between two points p and q.\n",
            "        \n",
            "        The points should be specified as sequences (or iterables) of\n",
            "        coordinates.  Both inputs must have the same dimension.\n",
            "        \n",
            "        Roughly equivalent to:\n",
            "            sqrt(sum((px - qx) ** 2.0 for px, qx in zip(p, q)))\n",
            "    \n",
            "    erf(x, /)\n",
            "        Error function at x.\n",
            "    \n",
            "    erfc(x, /)\n",
            "        Complementary error function at x.\n",
            "    \n",
            "    exp(x, /)\n",
            "        Return e raised to the power of x.\n",
            "    \n",
            "    expm1(x, /)\n",
            "        Return exp(x)-1.\n",
            "        \n",
            "        This function avoids the loss of precision involved in the direct evaluation of exp(x)-1 for small x.\n",
            "    \n",
            "    fabs(x, /)\n",
            "        Return the absolute value of the float x.\n",
            "    \n",
            "    factorial(x, /)\n",
            "        Find x!.\n",
            "        \n",
            "        Raise a ValueError if x is negative or non-integral.\n",
            "    \n",
            "    floor(x, /)\n",
            "        Return the floor of x as an Integral.\n",
            "        \n",
            "        This is the largest integer <= x.\n",
            "    \n",
            "    fmod(x, y, /)\n",
            "        Return fmod(x, y), according to platform C.\n",
            "        \n",
            "        x % y may differ.\n",
            "    \n",
            "    frexp(x, /)\n",
            "        Return the mantissa and exponent of x, as pair (m, e).\n",
            "        \n",
            "        m is a float and e is an int, such that x = m * 2.**e.\n",
            "        If x is 0, m and e are both 0.  Else 0.5 <= abs(m) < 1.0.\n",
            "    \n",
            "    fsum(seq, /)\n",
            "        Return an accurate floating point sum of values in the iterable seq.\n",
            "        \n",
            "        Assumes IEEE-754 floating point arithmetic.\n",
            "    \n",
            "    gamma(x, /)\n",
            "        Gamma function at x.\n",
            "    \n",
            "    gcd(*integers)\n",
            "        Greatest Common Divisor.\n",
            "    \n",
            "    hypot(...)\n",
            "        hypot(*coordinates) -> value\n",
            "        \n",
            "        Multidimensional Euclidean distance from the origin to a point.\n",
            "        \n",
            "        Roughly equivalent to:\n",
            "            sqrt(sum(x**2 for x in coordinates))\n",
            "        \n",
            "        For a two dimensional point (x, y), gives the hypotenuse\n",
            "        using the Pythagorean theorem:  sqrt(x*x + y*y).\n",
            "        \n",
            "        For example, the hypotenuse of a 3/4/5 right triangle is:\n",
            "        \n",
            "            >>> hypot(3.0, 4.0)\n",
            "            5.0\n",
            "    \n",
            "    isclose(a, b, *, rel_tol=1e-09, abs_tol=0.0)\n",
            "        Determine whether two floating point numbers are close in value.\n",
            "        \n",
            "          rel_tol\n",
            "            maximum difference for being considered \"close\", relative to the\n",
            "            magnitude of the input values\n",
            "          abs_tol\n",
            "            maximum difference for being considered \"close\", regardless of the\n",
            "            magnitude of the input values\n",
            "        \n",
            "        Return True if a is close in value to b, and False otherwise.\n",
            "        \n",
            "        For the values to be considered close, the difference between them\n",
            "        must be smaller than at least one of the tolerances.\n",
            "        \n",
            "        -inf, inf and NaN behave similarly to the IEEE 754 Standard.  That\n",
            "        is, NaN is not close to anything, even itself.  inf and -inf are\n",
            "        only close to themselves.\n",
            "    \n",
            "    isfinite(x, /)\n",
            "        Return True if x is neither an infinity nor a NaN, and False otherwise.\n",
            "    \n",
            "    isinf(x, /)\n",
            "        Return True if x is a positive or negative infinity, and False otherwise.\n",
            "    \n",
            "    isnan(x, /)\n",
            "        Return True if x is a NaN (not a number), and False otherwise.\n",
            "    \n",
            "    isqrt(n, /)\n",
            "        Return the integer part of the square root of the input.\n",
            "    \n",
            "    lcm(*integers)\n",
            "        Least Common Multiple.\n",
            "    \n",
            "    ldexp(x, i, /)\n",
            "        Return x * (2**i).\n",
            "        \n",
            "        This is essentially the inverse of frexp().\n",
            "    \n",
            "    lgamma(x, /)\n",
            "        Natural logarithm of absolute value of Gamma function at x.\n",
            "    \n",
            "    log(...)\n",
            "        log(x, [base=math.e])\n",
            "        Return the logarithm of x to the given base.\n",
            "        \n",
            "        If the base not specified, returns the natural logarithm (base e) of x.\n",
            "    \n",
            "    log10(x, /)\n",
            "        Return the base 10 logarithm of x.\n",
            "    \n",
            "    log1p(x, /)\n",
            "        Return the natural logarithm of 1+x (base e).\n",
            "        \n",
            "        The result is computed in a way which is accurate for x near zero.\n",
            "    \n",
            "    log2(x, /)\n",
            "        Return the base 2 logarithm of x.\n",
            "    \n",
            "    modf(x, /)\n",
            "        Return the fractional and integer parts of x.\n",
            "        \n",
            "        Both results carry the sign of x and are floats.\n",
            "    \n",
            "    nextafter(x, y, /)\n",
            "        Return the next floating-point value after x towards y.\n",
            "    \n",
            "    perm(n, k=None, /)\n",
            "        Number of ways to choose k items from n items without repetition and with order.\n",
            "        \n",
            "        Evaluates to n! / (n - k)! when k <= n and evaluates\n",
            "        to zero when k > n.\n",
            "        \n",
            "        If k is not specified or is None, then k defaults to n\n",
            "        and the function returns n!.\n",
            "        \n",
            "        Raises TypeError if either of the arguments are not integers.\n",
            "        Raises ValueError if either of the arguments are negative.\n",
            "    \n",
            "    pow(x, y, /)\n",
            "        Return x**y (x to the power of y).\n",
            "    \n",
            "    prod(iterable, /, *, start=1)\n",
            "        Calculate the product of all the elements in the input iterable.\n",
            "        \n",
            "        The default start value for the product is 1.\n",
            "        \n",
            "        When the iterable is empty, return the start value.  This function is\n",
            "        intended specifically for use with numeric values and may reject\n",
            "        non-numeric types.\n",
            "    \n",
            "    radians(x, /)\n",
            "        Convert angle x from degrees to radians.\n",
            "    \n",
            "    remainder(x, y, /)\n",
            "        Difference between x and the closest integer multiple of y.\n",
            "        \n",
            "        Return x - n*y where n*y is the closest integer multiple of y.\n",
            "        In the case where x is exactly halfway between two multiples of\n",
            "        y, the nearest even value of n is used. The result is always exact.\n",
            "    \n",
            "    sin(x, /)\n",
            "        Return the sine of x (measured in radians).\n",
            "    \n",
            "    sinh(x, /)\n",
            "        Return the hyperbolic sine of x.\n",
            "    \n",
            "    sqrt(x, /)\n",
            "        Return the square root of x.\n",
            "    \n",
            "    tan(x, /)\n",
            "        Return the tangent of x (measured in radians).\n",
            "    \n",
            "    tanh(x, /)\n",
            "        Return the hyperbolic tangent of x.\n",
            "    \n",
            "    trunc(x, /)\n",
            "        Truncates the Real x to the nearest Integral toward 0.\n",
            "        \n",
            "        Uses the __trunc__ magic method.\n",
            "    \n",
            "    ulp(x, /)\n",
            "        Return the value of the least significant bit of the float x.\n",
            "\n",
            "DATA\n",
            "    e = 2.718281828459045\n",
            "    inf = inf\n",
            "    nan = nan\n",
            "    pi = 3.141592653589793\n",
            "    tau = 6.283185307179586\n",
            "\n",
            "FILE\n",
            "    (built-in)\n",
            "\n",
            "\n"
          ]
        }
      ]
    },
    {
      "cell_type": "code",
      "source": [
        "pow"
      ],
      "metadata": {
        "id": "zhckK-KQSq1c",
        "colab": {
          "base_uri": "https://localhost:8080/"
        },
        "outputId": "4e9c685e-f023-4ab6-d794-361724bb1edc"
      },
      "execution_count": 175,
      "outputs": [
        {
          "output_type": "execute_result",
          "data": {
            "text/plain": [
              "<function pow(base, exp, mod=None)>"
            ]
          },
          "metadata": {},
          "execution_count": 175
        }
      ]
    },
    {
      "cell_type": "code",
      "source": [
        "pow(2,5)"
      ],
      "metadata": {
        "id": "-f-APwmBS1JB",
        "colab": {
          "base_uri": "https://localhost:8080/"
        },
        "outputId": "d5da2215-4ec2-4e00-d75e-4f16048430d8"
      },
      "execution_count": 176,
      "outputs": [
        {
          "output_type": "execute_result",
          "data": {
            "text/plain": [
              "32"
            ]
          },
          "metadata": {},
          "execution_count": 176
        }
      ]
    },
    {
      "cell_type": "code",
      "source": [
        "import math\n",
        "list1=[13,87,45]\n",
        "math.prod(list1)"
      ],
      "metadata": {
        "id": "IyZS3lwbTkRd",
        "colab": {
          "base_uri": "https://localhost:8080/"
        },
        "outputId": "a44be02c-df41-4a00-c740-f3c20f02d2c6"
      },
      "execution_count": 177,
      "outputs": [
        {
          "output_type": "execute_result",
          "data": {
            "text/plain": [
              "50895"
            ]
          },
          "metadata": {},
          "execution_count": 177
        }
      ]
    },
    {
      "cell_type": "code",
      "source": [
        "import statistics\n",
        "help(\"statistics\")"
      ],
      "metadata": {
        "id": "n09JnZyYUiM0",
        "colab": {
          "base_uri": "https://localhost:8080/"
        },
        "outputId": "9997fc2f-a3b5-4531-bad1-d4530199992b"
      },
      "execution_count": 178,
      "outputs": [
        {
          "output_type": "stream",
          "name": "stdout",
          "text": [
            "Help on module statistics:\n",
            "\n",
            "NAME\n",
            "    statistics - Basic statistics module.\n",
            "\n",
            "MODULE REFERENCE\n",
            "    https://docs.python.org/3.10/library/statistics.html\n",
            "    \n",
            "    The following documentation is automatically generated from the Python\n",
            "    source files.  It may be incomplete, incorrect or include features that\n",
            "    are considered implementation detail and may vary between Python\n",
            "    implementations.  When in doubt, consult the module reference at the\n",
            "    location listed above.\n",
            "\n",
            "DESCRIPTION\n",
            "    This module provides functions for calculating statistics of data, including\n",
            "    averages, variance, and standard deviation.\n",
            "    \n",
            "    Calculating averages\n",
            "    --------------------\n",
            "    \n",
            "    ==================  ==================================================\n",
            "    Function            Description\n",
            "    ==================  ==================================================\n",
            "    mean                Arithmetic mean (average) of data.\n",
            "    fmean               Fast, floating point arithmetic mean.\n",
            "    geometric_mean      Geometric mean of data.\n",
            "    harmonic_mean       Harmonic mean of data.\n",
            "    median              Median (middle value) of data.\n",
            "    median_low          Low median of data.\n",
            "    median_high         High median of data.\n",
            "    median_grouped      Median, or 50th percentile, of grouped data.\n",
            "    mode                Mode (most common value) of data.\n",
            "    multimode           List of modes (most common values of data).\n",
            "    quantiles           Divide data into intervals with equal probability.\n",
            "    ==================  ==================================================\n",
            "    \n",
            "    Calculate the arithmetic mean (\"the average\") of data:\n",
            "    \n",
            "    >>> mean([-1.0, 2.5, 3.25, 5.75])\n",
            "    2.625\n",
            "    \n",
            "    \n",
            "    Calculate the standard median of discrete data:\n",
            "    \n",
            "    >>> median([2, 3, 4, 5])\n",
            "    3.5\n",
            "    \n",
            "    \n",
            "    Calculate the median, or 50th percentile, of data grouped into class intervals\n",
            "    centred on the data values provided. E.g. if your data points are rounded to\n",
            "    the nearest whole number:\n",
            "    \n",
            "    >>> median_grouped([2, 2, 3, 3, 3, 4])  #doctest: +ELLIPSIS\n",
            "    2.8333333333...\n",
            "    \n",
            "    This should be interpreted in this way: you have two data points in the class\n",
            "    interval 1.5-2.5, three data points in the class interval 2.5-3.5, and one in\n",
            "    the class interval 3.5-4.5. The median of these data points is 2.8333...\n",
            "    \n",
            "    \n",
            "    Calculating variability or spread\n",
            "    ---------------------------------\n",
            "    \n",
            "    ==================  =============================================\n",
            "    Function            Description\n",
            "    ==================  =============================================\n",
            "    pvariance           Population variance of data.\n",
            "    variance            Sample variance of data.\n",
            "    pstdev              Population standard deviation of data.\n",
            "    stdev               Sample standard deviation of data.\n",
            "    ==================  =============================================\n",
            "    \n",
            "    Calculate the standard deviation of sample data:\n",
            "    \n",
            "    >>> stdev([2.5, 3.25, 5.5, 11.25, 11.75])  #doctest: +ELLIPSIS\n",
            "    4.38961843444...\n",
            "    \n",
            "    If you have previously calculated the mean, you can pass it as the optional\n",
            "    second argument to the four \"spread\" functions to avoid recalculating it:\n",
            "    \n",
            "    >>> data = [1, 2, 2, 4, 4, 4, 5, 6]\n",
            "    >>> mu = mean(data)\n",
            "    >>> pvariance(data, mu)\n",
            "    2.5\n",
            "    \n",
            "    \n",
            "    Statistics for relations between two inputs\n",
            "    -------------------------------------------\n",
            "    \n",
            "    ==================  ====================================================\n",
            "    Function            Description\n",
            "    ==================  ====================================================\n",
            "    covariance          Sample covariance for two variables.\n",
            "    correlation         Pearson's correlation coefficient for two variables.\n",
            "    linear_regression   Intercept and slope for simple linear regression.\n",
            "    ==================  ====================================================\n",
            "    \n",
            "    Calculate covariance, Pearson's correlation, and simple linear regression\n",
            "    for two inputs:\n",
            "    \n",
            "    >>> x = [1, 2, 3, 4, 5, 6, 7, 8, 9]\n",
            "    >>> y = [1, 2, 3, 1, 2, 3, 1, 2, 3]\n",
            "    >>> covariance(x, y)\n",
            "    0.75\n",
            "    >>> correlation(x, y)  #doctest: +ELLIPSIS\n",
            "    0.31622776601...\n",
            "    >>> linear_regression(x, y)  #doctest:\n",
            "    LinearRegression(slope=0.1, intercept=1.5)\n",
            "    \n",
            "    \n",
            "    Exceptions\n",
            "    ----------\n",
            "    \n",
            "    A single exception is defined: StatisticsError is a subclass of ValueError.\n",
            "\n",
            "CLASSES\n",
            "    builtins.ValueError(builtins.Exception)\n",
            "        StatisticsError\n",
            "    builtins.object\n",
            "        NormalDist\n",
            "    \n",
            "    class NormalDist(builtins.object)\n",
            "     |  NormalDist(mu=0.0, sigma=1.0)\n",
            "     |  \n",
            "     |  Normal distribution of a random variable\n",
            "     |  \n",
            "     |  Methods defined here:\n",
            "     |  \n",
            "     |  __add__(x1, x2)\n",
            "     |      Add a constant or another NormalDist instance.\n",
            "     |      \n",
            "     |      If *other* is a constant, translate mu by the constant,\n",
            "     |      leaving sigma unchanged.\n",
            "     |      \n",
            "     |      If *other* is a NormalDist, add both the means and the variances.\n",
            "     |      Mathematically, this works only if the two distributions are\n",
            "     |      independent or if they are jointly normally distributed.\n",
            "     |  \n",
            "     |  __eq__(x1, x2)\n",
            "     |      Two NormalDist objects are equal if their mu and sigma are both equal.\n",
            "     |  \n",
            "     |  __getstate__(self)\n",
            "     |  \n",
            "     |  __hash__(self)\n",
            "     |      NormalDist objects hash equal if their mu and sigma are both equal.\n",
            "     |  \n",
            "     |  __init__(self, mu=0.0, sigma=1.0)\n",
            "     |      NormalDist where mu is the mean and sigma is the standard deviation.\n",
            "     |  \n",
            "     |  __mul__(x1, x2)\n",
            "     |      Multiply both mu and sigma by a constant.\n",
            "     |      \n",
            "     |      Used for rescaling, perhaps to change measurement units.\n",
            "     |      Sigma is scaled with the absolute value of the constant.\n",
            "     |  \n",
            "     |  __neg__(x1)\n",
            "     |      Negates mu while keeping sigma the same.\n",
            "     |  \n",
            "     |  __pos__(x1)\n",
            "     |      Return a copy of the instance.\n",
            "     |  \n",
            "     |  __radd__ = __add__(x1, x2)\n",
            "     |  \n",
            "     |  __repr__(self)\n",
            "     |      Return repr(self).\n",
            "     |  \n",
            "     |  __rmul__ = __mul__(x1, x2)\n",
            "     |  \n",
            "     |  __rsub__(x1, x2)\n",
            "     |      Subtract a NormalDist from a constant or another NormalDist.\n",
            "     |  \n",
            "     |  __setstate__(self, state)\n",
            "     |  \n",
            "     |  __sub__(x1, x2)\n",
            "     |      Subtract a constant or another NormalDist instance.\n",
            "     |      \n",
            "     |      If *other* is a constant, translate by the constant mu,\n",
            "     |      leaving sigma unchanged.\n",
            "     |      \n",
            "     |      If *other* is a NormalDist, subtract the means and add the variances.\n",
            "     |      Mathematically, this works only if the two distributions are\n",
            "     |      independent or if they are jointly normally distributed.\n",
            "     |  \n",
            "     |  __truediv__(x1, x2)\n",
            "     |      Divide both mu and sigma by a constant.\n",
            "     |      \n",
            "     |      Used for rescaling, perhaps to change measurement units.\n",
            "     |      Sigma is scaled with the absolute value of the constant.\n",
            "     |  \n",
            "     |  cdf(self, x)\n",
            "     |      Cumulative distribution function.  P(X <= x)\n",
            "     |  \n",
            "     |  inv_cdf(self, p)\n",
            "     |      Inverse cumulative distribution function.  x : P(X <= x) = p\n",
            "     |      \n",
            "     |      Finds the value of the random variable such that the probability of\n",
            "     |      the variable being less than or equal to that value equals the given\n",
            "     |      probability.\n",
            "     |      \n",
            "     |      This function is also called the percent point function or quantile\n",
            "     |      function.\n",
            "     |  \n",
            "     |  overlap(self, other)\n",
            "     |      Compute the overlapping coefficient (OVL) between two normal distributions.\n",
            "     |      \n",
            "     |      Measures the agreement between two normal probability distributions.\n",
            "     |      Returns a value between 0.0 and 1.0 giving the overlapping area in\n",
            "     |      the two underlying probability density functions.\n",
            "     |      \n",
            "     |          >>> N1 = NormalDist(2.4, 1.6)\n",
            "     |          >>> N2 = NormalDist(3.2, 2.0)\n",
            "     |          >>> N1.overlap(N2)\n",
            "     |          0.8035050657330205\n",
            "     |  \n",
            "     |  pdf(self, x)\n",
            "     |      Probability density function.  P(x <= X < x+dx) / dx\n",
            "     |  \n",
            "     |  quantiles(self, n=4)\n",
            "     |      Divide into *n* continuous intervals with equal probability.\n",
            "     |      \n",
            "     |      Returns a list of (n - 1) cut points separating the intervals.\n",
            "     |      \n",
            "     |      Set *n* to 4 for quartiles (the default).  Set *n* to 10 for deciles.\n",
            "     |      Set *n* to 100 for percentiles which gives the 99 cuts points that\n",
            "     |      separate the normal distribution in to 100 equal sized groups.\n",
            "     |  \n",
            "     |  samples(self, n, *, seed=None)\n",
            "     |      Generate *n* samples for a given mean and standard deviation.\n",
            "     |  \n",
            "     |  zscore(self, x)\n",
            "     |      Compute the Standard Score.  (x - mean) / stdev\n",
            "     |      \n",
            "     |      Describes *x* in terms of the number of standard deviations\n",
            "     |      above or below the mean of the normal distribution.\n",
            "     |  \n",
            "     |  ----------------------------------------------------------------------\n",
            "     |  Class methods defined here:\n",
            "     |  \n",
            "     |  from_samples(data) from builtins.type\n",
            "     |      Make a normal distribution instance from sample data.\n",
            "     |  \n",
            "     |  ----------------------------------------------------------------------\n",
            "     |  Readonly properties defined here:\n",
            "     |  \n",
            "     |  mean\n",
            "     |      Arithmetic mean of the normal distribution.\n",
            "     |  \n",
            "     |  median\n",
            "     |      Return the median of the normal distribution\n",
            "     |  \n",
            "     |  mode\n",
            "     |      Return the mode of the normal distribution\n",
            "     |      \n",
            "     |      The mode is the value x where which the probability density\n",
            "     |      function (pdf) takes its maximum value.\n",
            "     |  \n",
            "     |  stdev\n",
            "     |      Standard deviation of the normal distribution.\n",
            "     |  \n",
            "     |  variance\n",
            "     |      Square of the standard deviation.\n",
            "    \n",
            "    class StatisticsError(builtins.ValueError)\n",
            "     |  Method resolution order:\n",
            "     |      StatisticsError\n",
            "     |      builtins.ValueError\n",
            "     |      builtins.Exception\n",
            "     |      builtins.BaseException\n",
            "     |      builtins.object\n",
            "     |  \n",
            "     |  Data descriptors defined here:\n",
            "     |  \n",
            "     |  __weakref__\n",
            "     |      list of weak references to the object (if defined)\n",
            "     |  \n",
            "     |  ----------------------------------------------------------------------\n",
            "     |  Methods inherited from builtins.ValueError:\n",
            "     |  \n",
            "     |  __init__(self, /, *args, **kwargs)\n",
            "     |      Initialize self.  See help(type(self)) for accurate signature.\n",
            "     |  \n",
            "     |  ----------------------------------------------------------------------\n",
            "     |  Static methods inherited from builtins.ValueError:\n",
            "     |  \n",
            "     |  __new__(*args, **kwargs) from builtins.type\n",
            "     |      Create and return a new object.  See help(type) for accurate signature.\n",
            "     |  \n",
            "     |  ----------------------------------------------------------------------\n",
            "     |  Methods inherited from builtins.BaseException:\n",
            "     |  \n",
            "     |  __delattr__(self, name, /)\n",
            "     |      Implement delattr(self, name).\n",
            "     |  \n",
            "     |  __getattribute__(self, name, /)\n",
            "     |      Return getattr(self, name).\n",
            "     |  \n",
            "     |  __reduce__(...)\n",
            "     |      Helper for pickle.\n",
            "     |  \n",
            "     |  __repr__(self, /)\n",
            "     |      Return repr(self).\n",
            "     |  \n",
            "     |  __setattr__(self, name, value, /)\n",
            "     |      Implement setattr(self, name, value).\n",
            "     |  \n",
            "     |  __setstate__(...)\n",
            "     |  \n",
            "     |  __str__(self, /)\n",
            "     |      Return str(self).\n",
            "     |  \n",
            "     |  with_traceback(...)\n",
            "     |      Exception.with_traceback(tb) --\n",
            "     |      set self.__traceback__ to tb and return self.\n",
            "     |  \n",
            "     |  ----------------------------------------------------------------------\n",
            "     |  Data descriptors inherited from builtins.BaseException:\n",
            "     |  \n",
            "     |  __cause__\n",
            "     |      exception cause\n",
            "     |  \n",
            "     |  __context__\n",
            "     |      exception context\n",
            "     |  \n",
            "     |  __dict__\n",
            "     |  \n",
            "     |  __suppress_context__\n",
            "     |  \n",
            "     |  __traceback__\n",
            "     |  \n",
            "     |  args\n",
            "\n",
            "FUNCTIONS\n",
            "    correlation(x, y, /)\n",
            "        Pearson's correlation coefficient\n",
            "        \n",
            "        Return the Pearson's correlation coefficient for two inputs. Pearson's\n",
            "        correlation coefficient *r* takes values between -1 and +1. It measures the\n",
            "        strength and direction of the linear relationship, where +1 means very\n",
            "        strong, positive linear relationship, -1 very strong, negative linear\n",
            "        relationship, and 0 no linear relationship.\n",
            "        \n",
            "        >>> x = [1, 2, 3, 4, 5, 6, 7, 8, 9]\n",
            "        >>> y = [9, 8, 7, 6, 5, 4, 3, 2, 1]\n",
            "        >>> correlation(x, x)\n",
            "        1.0\n",
            "        >>> correlation(x, y)\n",
            "        -1.0\n",
            "    \n",
            "    covariance(x, y, /)\n",
            "        Covariance\n",
            "        \n",
            "        Return the sample covariance of two inputs *x* and *y*. Covariance\n",
            "        is a measure of the joint variability of two inputs.\n",
            "        \n",
            "        >>> x = [1, 2, 3, 4, 5, 6, 7, 8, 9]\n",
            "        >>> y = [1, 2, 3, 1, 2, 3, 1, 2, 3]\n",
            "        >>> covariance(x, y)\n",
            "        0.75\n",
            "        >>> z = [9, 8, 7, 6, 5, 4, 3, 2, 1]\n",
            "        >>> covariance(x, z)\n",
            "        -7.5\n",
            "        >>> covariance(z, x)\n",
            "        -7.5\n",
            "    \n",
            "    fmean(data)\n",
            "        Convert data to floats and compute the arithmetic mean.\n",
            "        \n",
            "        This runs faster than the mean() function and it always returns a float.\n",
            "        If the input dataset is empty, it raises a StatisticsError.\n",
            "        \n",
            "        >>> fmean([3.5, 4.0, 5.25])\n",
            "        4.25\n",
            "    \n",
            "    geometric_mean(data)\n",
            "        Convert data to floats and compute the geometric mean.\n",
            "        \n",
            "        Raises a StatisticsError if the input dataset is empty,\n",
            "        if it contains a zero, or if it contains a negative value.\n",
            "        \n",
            "        No special efforts are made to achieve exact results.\n",
            "        (However, this may change in the future.)\n",
            "        \n",
            "        >>> round(geometric_mean([54, 24, 36]), 9)\n",
            "        36.0\n",
            "    \n",
            "    harmonic_mean(data, weights=None)\n",
            "        Return the harmonic mean of data.\n",
            "        \n",
            "        The harmonic mean is the reciprocal of the arithmetic mean of the\n",
            "        reciprocals of the data.  It can be used for averaging ratios or\n",
            "        rates, for example speeds.\n",
            "        \n",
            "        Suppose a car travels 40 km/hr for 5 km and then speeds-up to\n",
            "        60 km/hr for another 5 km. What is the average speed?\n",
            "        \n",
            "            >>> harmonic_mean([40, 60])\n",
            "            48.0\n",
            "        \n",
            "        Suppose a car travels 40 km/hr for 5 km, and when traffic clears,\n",
            "        speeds-up to 60 km/hr for the remaining 30 km of the journey. What\n",
            "        is the average speed?\n",
            "        \n",
            "            >>> harmonic_mean([40, 60], weights=[5, 30])\n",
            "            56.0\n",
            "        \n",
            "        If ``data`` is empty, or any element is less than zero,\n",
            "        ``harmonic_mean`` will raise ``StatisticsError``.\n",
            "    \n",
            "    linear_regression(x, y, /)\n",
            "        Slope and intercept for simple linear regression.\n",
            "        \n",
            "        Return the slope and intercept of simple linear regression\n",
            "        parameters estimated using ordinary least squares. Simple linear\n",
            "        regression describes relationship between an independent variable\n",
            "        *x* and a dependent variable *y* in terms of linear function:\n",
            "        \n",
            "            y = slope * x + intercept + noise\n",
            "        \n",
            "        where *slope* and *intercept* are the regression parameters that are\n",
            "        estimated, and noise represents the variability of the data that was\n",
            "        not explained by the linear regression (it is equal to the\n",
            "        difference between predicted and actual values of the dependent\n",
            "        variable).\n",
            "        \n",
            "        The parameters are returned as a named tuple.\n",
            "        \n",
            "        >>> x = [1, 2, 3, 4, 5]\n",
            "        >>> noise = NormalDist().samples(5, seed=42)\n",
            "        >>> y = [3 * x[i] + 2 + noise[i] for i in range(5)]\n",
            "        >>> linear_regression(x, y)  #doctest: +ELLIPSIS\n",
            "        LinearRegression(slope=3.09078914170..., intercept=1.75684970486...)\n",
            "    \n",
            "    mean(data)\n",
            "        Return the sample arithmetic mean of data.\n",
            "        \n",
            "        >>> mean([1, 2, 3, 4, 4])\n",
            "        2.8\n",
            "        \n",
            "        >>> from fractions import Fraction as F\n",
            "        >>> mean([F(3, 7), F(1, 21), F(5, 3), F(1, 3)])\n",
            "        Fraction(13, 21)\n",
            "        \n",
            "        >>> from decimal import Decimal as D\n",
            "        >>> mean([D(\"0.5\"), D(\"0.75\"), D(\"0.625\"), D(\"0.375\")])\n",
            "        Decimal('0.5625')\n",
            "        \n",
            "        If ``data`` is empty, StatisticsError will be raised.\n",
            "    \n",
            "    median(data)\n",
            "        Return the median (middle value) of numeric data.\n",
            "        \n",
            "        When the number of data points is odd, return the middle data point.\n",
            "        When the number of data points is even, the median is interpolated by\n",
            "        taking the average of the two middle values:\n",
            "        \n",
            "        >>> median([1, 3, 5])\n",
            "        3\n",
            "        >>> median([1, 3, 5, 7])\n",
            "        4.0\n",
            "    \n",
            "    median_grouped(data, interval=1)\n",
            "        Return the 50th percentile (median) of grouped continuous data.\n",
            "        \n",
            "        >>> median_grouped([1, 2, 2, 3, 4, 4, 4, 4, 4, 5])\n",
            "        3.7\n",
            "        >>> median_grouped([52, 52, 53, 54])\n",
            "        52.5\n",
            "        \n",
            "        This calculates the median as the 50th percentile, and should be\n",
            "        used when your data is continuous and grouped. In the above example,\n",
            "        the values 1, 2, 3, etc. actually represent the midpoint of classes\n",
            "        0.5-1.5, 1.5-2.5, 2.5-3.5, etc. The middle value falls somewhere in\n",
            "        class 3.5-4.5, and interpolation is used to estimate it.\n",
            "        \n",
            "        Optional argument ``interval`` represents the class interval, and\n",
            "        defaults to 1. Changing the class interval naturally will change the\n",
            "        interpolated 50th percentile value:\n",
            "        \n",
            "        >>> median_grouped([1, 3, 3, 5, 7], interval=1)\n",
            "        3.25\n",
            "        >>> median_grouped([1, 3, 3, 5, 7], interval=2)\n",
            "        3.5\n",
            "        \n",
            "        This function does not check whether the data points are at least\n",
            "        ``interval`` apart.\n",
            "    \n",
            "    median_high(data)\n",
            "        Return the high median of data.\n",
            "        \n",
            "        When the number of data points is odd, the middle value is returned.\n",
            "        When it is even, the larger of the two middle values is returned.\n",
            "        \n",
            "        >>> median_high([1, 3, 5])\n",
            "        3\n",
            "        >>> median_high([1, 3, 5, 7])\n",
            "        5\n",
            "    \n",
            "    median_low(data)\n",
            "        Return the low median of numeric data.\n",
            "        \n",
            "        When the number of data points is odd, the middle value is returned.\n",
            "        When it is even, the smaller of the two middle values is returned.\n",
            "        \n",
            "        >>> median_low([1, 3, 5])\n",
            "        3\n",
            "        >>> median_low([1, 3, 5, 7])\n",
            "        3\n",
            "    \n",
            "    mode(data)\n",
            "        Return the most common data point from discrete or nominal data.\n",
            "        \n",
            "        ``mode`` assumes discrete data, and returns a single value. This is the\n",
            "        standard treatment of the mode as commonly taught in schools:\n",
            "        \n",
            "            >>> mode([1, 1, 2, 3, 3, 3, 3, 4])\n",
            "            3\n",
            "        \n",
            "        This also works with nominal (non-numeric) data:\n",
            "        \n",
            "            >>> mode([\"red\", \"blue\", \"blue\", \"red\", \"green\", \"red\", \"red\"])\n",
            "            'red'\n",
            "        \n",
            "        If there are multiple modes with same frequency, return the first one\n",
            "        encountered:\n",
            "        \n",
            "            >>> mode(['red', 'red', 'green', 'blue', 'blue'])\n",
            "            'red'\n",
            "        \n",
            "        If *data* is empty, ``mode``, raises StatisticsError.\n",
            "    \n",
            "    multimode(data)\n",
            "        Return a list of the most frequently occurring values.\n",
            "        \n",
            "        Will return more than one result if there are multiple modes\n",
            "        or an empty list if *data* is empty.\n",
            "        \n",
            "        >>> multimode('aabbbbbbbbcc')\n",
            "        ['b']\n",
            "        >>> multimode('aabbbbccddddeeffffgg')\n",
            "        ['b', 'd', 'f']\n",
            "        >>> multimode('')\n",
            "        []\n",
            "    \n",
            "    pstdev(data, mu=None)\n",
            "        Return the square root of the population variance.\n",
            "        \n",
            "        See ``pvariance`` for arguments and other details.\n",
            "        \n",
            "        >>> pstdev([1.5, 2.5, 2.5, 2.75, 3.25, 4.75])\n",
            "        0.986893273527251\n",
            "    \n",
            "    pvariance(data, mu=None)\n",
            "        Return the population variance of ``data``.\n",
            "        \n",
            "        data should be a sequence or iterable of Real-valued numbers, with at least one\n",
            "        value. The optional argument mu, if given, should be the mean of\n",
            "        the data. If it is missing or None, the mean is automatically calculated.\n",
            "        \n",
            "        Use this function to calculate the variance from the entire population.\n",
            "        To estimate the variance from a sample, the ``variance`` function is\n",
            "        usually a better choice.\n",
            "        \n",
            "        Examples:\n",
            "        \n",
            "        >>> data = [0.0, 0.25, 0.25, 1.25, 1.5, 1.75, 2.75, 3.25]\n",
            "        >>> pvariance(data)\n",
            "        1.25\n",
            "        \n",
            "        If you have already calculated the mean of the data, you can pass it as\n",
            "        the optional second argument to avoid recalculating it:\n",
            "        \n",
            "        >>> mu = mean(data)\n",
            "        >>> pvariance(data, mu)\n",
            "        1.25\n",
            "        \n",
            "        Decimals and Fractions are supported:\n",
            "        \n",
            "        >>> from decimal import Decimal as D\n",
            "        >>> pvariance([D(\"27.5\"), D(\"30.25\"), D(\"30.25\"), D(\"34.5\"), D(\"41.75\")])\n",
            "        Decimal('24.815')\n",
            "        \n",
            "        >>> from fractions import Fraction as F\n",
            "        >>> pvariance([F(1, 4), F(5, 4), F(1, 2)])\n",
            "        Fraction(13, 72)\n",
            "    \n",
            "    quantiles(data, *, n=4, method='exclusive')\n",
            "        Divide *data* into *n* continuous intervals with equal probability.\n",
            "        \n",
            "        Returns a list of (n - 1) cut points separating the intervals.\n",
            "        \n",
            "        Set *n* to 4 for quartiles (the default).  Set *n* to 10 for deciles.\n",
            "        Set *n* to 100 for percentiles which gives the 99 cuts points that\n",
            "        separate *data* in to 100 equal sized groups.\n",
            "        \n",
            "        The *data* can be any iterable containing sample.\n",
            "        The cut points are linearly interpolated between data points.\n",
            "        \n",
            "        If *method* is set to *inclusive*, *data* is treated as population\n",
            "        data.  The minimum value is treated as the 0th percentile and the\n",
            "        maximum value is treated as the 100th percentile.\n",
            "    \n",
            "    stdev(data, xbar=None)\n",
            "        Return the square root of the sample variance.\n",
            "        \n",
            "        See ``variance`` for arguments and other details.\n",
            "        \n",
            "        >>> stdev([1.5, 2.5, 2.5, 2.75, 3.25, 4.75])\n",
            "        1.0810874155219827\n",
            "    \n",
            "    variance(data, xbar=None)\n",
            "        Return the sample variance of data.\n",
            "        \n",
            "        data should be an iterable of Real-valued numbers, with at least two\n",
            "        values. The optional argument xbar, if given, should be the mean of\n",
            "        the data. If it is missing or None, the mean is automatically calculated.\n",
            "        \n",
            "        Use this function when your data is a sample from a population. To\n",
            "        calculate the variance from the entire population, see ``pvariance``.\n",
            "        \n",
            "        Examples:\n",
            "        \n",
            "        >>> data = [2.75, 1.75, 1.25, 0.25, 0.5, 1.25, 3.5]\n",
            "        >>> variance(data)\n",
            "        1.3720238095238095\n",
            "        \n",
            "        If you have already calculated the mean of your data, you can pass it as\n",
            "        the optional second argument ``xbar`` to avoid recalculating it:\n",
            "        \n",
            "        >>> m = mean(data)\n",
            "        >>> variance(data, m)\n",
            "        1.3720238095238095\n",
            "        \n",
            "        This function does not check that ``xbar`` is actually the mean of\n",
            "        ``data``. Giving arbitrary values for ``xbar`` may lead to invalid or\n",
            "        impossible results.\n",
            "        \n",
            "        Decimals and Fractions are supported:\n",
            "        \n",
            "        >>> from decimal import Decimal as D\n",
            "        >>> variance([D(\"27.5\"), D(\"30.25\"), D(\"30.25\"), D(\"34.5\"), D(\"41.75\")])\n",
            "        Decimal('31.01875')\n",
            "        \n",
            "        >>> from fractions import Fraction as F\n",
            "        >>> variance([F(1, 6), F(1, 2), F(5, 3)])\n",
            "        Fraction(67, 108)\n",
            "\n",
            "DATA\n",
            "    __all__ = ['NormalDist', 'StatisticsError', 'correlation', 'covariance...\n",
            "\n",
            "FILE\n",
            "    /usr/lib/python3.10/statistics.py\n",
            "\n",
            "\n"
          ]
        }
      ]
    },
    {
      "cell_type": "code",
      "source": [
        "import statistics\n",
        "list1 = [67,34,56]\n",
        "statistics.stdev(list1)"
      ],
      "metadata": {
        "id": "43mTxx4xUr8d",
        "colab": {
          "base_uri": "https://localhost:8080/"
        },
        "outputId": "a794faee-4d00-4b68-9f1b-de843214605a"
      },
      "execution_count": 179,
      "outputs": [
        {
          "output_type": "execute_result",
          "data": {
            "text/plain": [
              "16.802777548171413"
            ]
          },
          "metadata": {},
          "execution_count": 179
        }
      ]
    },
    {
      "cell_type": "code",
      "source": [
        "import sys\n",
        "help(\"sys\")"
      ],
      "metadata": {
        "id": "mxVSImbsVGpO",
        "colab": {
          "base_uri": "https://localhost:8080/"
        },
        "outputId": "1dcf12a6-b75e-4829-8092-9db5bc319b72"
      },
      "execution_count": 192,
      "outputs": [
        {
          "output_type": "stream",
          "name": "stdout",
          "text": [
            "Help on built-in module sys:\n",
            "\n",
            "NAME\n",
            "    sys\n",
            "\n",
            "MODULE REFERENCE\n",
            "    https://docs.python.org/3.10/library/sys.html\n",
            "    \n",
            "    The following documentation is automatically generated from the Python\n",
            "    source files.  It may be incomplete, incorrect or include features that\n",
            "    are considered implementation detail and may vary between Python\n",
            "    implementations.  When in doubt, consult the module reference at the\n",
            "    location listed above.\n",
            "\n",
            "DESCRIPTION\n",
            "    This module provides access to some objects used or maintained by the\n",
            "    interpreter and to functions that interact strongly with the interpreter.\n",
            "    \n",
            "    Dynamic objects:\n",
            "    \n",
            "    argv -- command line arguments; argv[0] is the script pathname if known\n",
            "    path -- module search path; path[0] is the script directory, else ''\n",
            "    modules -- dictionary of loaded modules\n",
            "    \n",
            "    displayhook -- called to show results in an interactive session\n",
            "    excepthook -- called to handle any uncaught exception other than SystemExit\n",
            "      To customize printing in an interactive session or to install a custom\n",
            "      top-level exception handler, assign other functions to replace these.\n",
            "    \n",
            "    stdin -- standard input file object; used by input()\n",
            "    stdout -- standard output file object; used by print()\n",
            "    stderr -- standard error object; used for error messages\n",
            "      By assigning other file objects (or objects that behave like files)\n",
            "      to these, it is possible to redirect all of the interpreter's I/O.\n",
            "    \n",
            "    last_type -- type of last uncaught exception\n",
            "    last_value -- value of last uncaught exception\n",
            "    last_traceback -- traceback of last uncaught exception\n",
            "      These three are only available in an interactive session after a\n",
            "      traceback has been printed.\n",
            "    \n",
            "    Static objects:\n",
            "    \n",
            "    builtin_module_names -- tuple of module names built into this interpreter\n",
            "    copyright -- copyright notice pertaining to this interpreter\n",
            "    exec_prefix -- prefix used to find the machine-specific Python library\n",
            "    executable -- absolute path of the executable binary of the Python interpreter\n",
            "    float_info -- a named tuple with information about the float implementation.\n",
            "    float_repr_style -- string indicating the style of repr() output for floats\n",
            "    hash_info -- a named tuple with information about the hash algorithm.\n",
            "    hexversion -- version information encoded as a single integer\n",
            "    implementation -- Python implementation information.\n",
            "    int_info -- a named tuple with information about the int implementation.\n",
            "    maxsize -- the largest supported length of containers.\n",
            "    maxunicode -- the value of the largest Unicode code point\n",
            "    platform -- platform identifier\n",
            "    prefix -- prefix used to find the Python library\n",
            "    thread_info -- a named tuple with information about the thread implementation.\n",
            "    version -- the version of this interpreter as a string\n",
            "    version_info -- version information as a named tuple\n",
            "    __stdin__ -- the original stdin; don't touch!\n",
            "    __stdout__ -- the original stdout; don't touch!\n",
            "    __stderr__ -- the original stderr; don't touch!\n",
            "    __displayhook__ -- the original displayhook; don't touch!\n",
            "    __excepthook__ -- the original excepthook; don't touch!\n",
            "    \n",
            "    Functions:\n",
            "    \n",
            "    displayhook() -- print an object to the screen, and save it in builtins._\n",
            "    excepthook() -- print an exception and its traceback to sys.stderr\n",
            "    exc_info() -- return thread-safe information about the current exception\n",
            "    exit() -- exit the interpreter by raising SystemExit\n",
            "    getdlopenflags() -- returns flags to be used for dlopen() calls\n",
            "    getprofile() -- get the global profiling function\n",
            "    getrefcount() -- return the reference count for an object (plus one :-)\n",
            "    getrecursionlimit() -- return the max recursion depth for the interpreter\n",
            "    getsizeof() -- return the size of an object in bytes\n",
            "    gettrace() -- get the global debug tracing function\n",
            "    setdlopenflags() -- set the flags to be used for dlopen() calls\n",
            "    setprofile() -- set the global profiling function\n",
            "    setrecursionlimit() -- set the max recursion depth for the interpreter\n",
            "    settrace() -- set the global debug tracing function\n",
            "\n",
            "FUNCTIONS\n",
            "    __breakpointhook__ = breakpointhook(...)\n",
            "        breakpointhook(*args, **kws)\n",
            "        \n",
            "        This hook function is called by built-in breakpoint().\n",
            "    \n",
            "    __displayhook__ = displayhook(object, /)\n",
            "        Print an object to sys.stdout and also save it in builtins._\n",
            "    \n",
            "    __excepthook__ = excepthook(exctype, value, traceback, /)\n",
            "        Handle an exception by displaying it with a traceback on sys.stderr.\n",
            "    \n",
            "    __unraisablehook__ = unraisablehook(unraisable, /)\n",
            "        Handle an unraisable exception.\n",
            "        \n",
            "        The unraisable argument has the following attributes:\n",
            "        \n",
            "        * exc_type: Exception type.\n",
            "        * exc_value: Exception value, can be None.\n",
            "        * exc_traceback: Exception traceback, can be None.\n",
            "        * err_msg: Error message, can be None.\n",
            "        * object: Object causing the exception, can be None.\n",
            "    \n",
            "    addaudithook(hook)\n",
            "        Adds a new audit hook callback.\n",
            "    \n",
            "    audit(...)\n",
            "        audit(event, *args)\n",
            "        \n",
            "        Passes the event to any audit hooks that are attached.\n",
            "    \n",
            "    breakpointhook(...)\n",
            "        breakpointhook(*args, **kws)\n",
            "        \n",
            "        This hook function is called by built-in breakpoint().\n",
            "    \n",
            "    call_tracing(func, args, /)\n",
            "        Call func(*args), while tracing is enabled.\n",
            "        \n",
            "        The tracing state is saved, and restored afterwards.  This is intended\n",
            "        to be called from a debugger from a checkpoint, to recursively debug\n",
            "        some other code.\n",
            "    \n",
            "    exc_info()\n",
            "        Return current exception information: (type, value, traceback).\n",
            "        \n",
            "        Return information about the most recent exception caught by an except\n",
            "        clause in the current stack frame or in an older stack frame.\n",
            "    \n",
            "    exit(status=None, /)\n",
            "        Exit the interpreter by raising SystemExit(status).\n",
            "        \n",
            "        If the status is omitted or None, it defaults to zero (i.e., success).\n",
            "        If the status is an integer, it will be used as the system exit status.\n",
            "        If it is another kind of object, it will be printed and the system\n",
            "        exit status will be one (i.e., failure).\n",
            "    \n",
            "    get_asyncgen_hooks()\n",
            "        Return the installed asynchronous generators hooks.\n",
            "        \n",
            "        This returns a namedtuple of the form (firstiter, finalizer).\n",
            "    \n",
            "    get_coroutine_origin_tracking_depth()\n",
            "        Check status of origin tracking for coroutine objects in this thread.\n",
            "    \n",
            "    get_int_max_str_digits()\n",
            "        Return the maximum string digits limit for non-binary int<->str conversions.\n",
            "    \n",
            "    getallocatedblocks()\n",
            "        Return the number of memory blocks currently allocated.\n",
            "    \n",
            "    getdefaultencoding()\n",
            "        Return the current default encoding used by the Unicode implementation.\n",
            "    \n",
            "    getdlopenflags()\n",
            "        Return the current value of the flags that are used for dlopen calls.\n",
            "        \n",
            "        The flag constants are defined in the os module.\n",
            "    \n",
            "    getfilesystemencodeerrors()\n",
            "        Return the error mode used Unicode to OS filename conversion.\n",
            "    \n",
            "    getfilesystemencoding()\n",
            "        Return the encoding used to convert Unicode filenames to OS filenames.\n",
            "    \n",
            "    getprofile()\n",
            "        Return the profiling function set with sys.setprofile.\n",
            "        \n",
            "        See the profiler chapter in the library manual.\n",
            "    \n",
            "    getrecursionlimit()\n",
            "        Return the current value of the recursion limit.\n",
            "        \n",
            "        The recursion limit is the maximum depth of the Python interpreter\n",
            "        stack.  This limit prevents infinite recursion from causing an overflow\n",
            "        of the C stack and crashing Python.\n",
            "    \n",
            "    getrefcount(object, /)\n",
            "        Return the reference count of object.\n",
            "        \n",
            "        The count returned is generally one higher than you might expect,\n",
            "        because it includes the (temporary) reference as an argument to\n",
            "        getrefcount().\n",
            "    \n",
            "    getsizeof(...)\n",
            "        getsizeof(object [, default]) -> int\n",
            "        \n",
            "        Return the size of object in bytes.\n",
            "    \n",
            "    getswitchinterval()\n",
            "        Return the current thread switch interval; see sys.setswitchinterval().\n",
            "    \n",
            "    gettrace()\n",
            "        Return the global debug tracing function set with sys.settrace.\n",
            "        \n",
            "        See the debugger chapter in the library manual.\n",
            "    \n",
            "    intern(string, /)\n",
            "        ``Intern'' the given string.\n",
            "        \n",
            "        This enters the string in the (global) table of interned strings whose\n",
            "        purpose is to speed up dictionary lookups. Return the string itself or\n",
            "        the previously interned string object with the same value.\n",
            "    \n",
            "    is_finalizing()\n",
            "        Return True if Python is exiting.\n",
            "    \n",
            "    set_asyncgen_hooks(...)\n",
            "        set_asyncgen_hooks(* [, firstiter] [, finalizer])\n",
            "        \n",
            "        Set a finalizer for async generators objects.\n",
            "    \n",
            "    set_coroutine_origin_tracking_depth(depth)\n",
            "        Enable or disable origin tracking for coroutine objects in this thread.\n",
            "        \n",
            "        Coroutine objects will track 'depth' frames of traceback information\n",
            "        about where they came from, available in their cr_origin attribute.\n",
            "        \n",
            "        Set a depth of 0 to disable.\n",
            "    \n",
            "    set_int_max_str_digits(maxdigits)\n",
            "        Set the maximum string digits limit for non-binary int<->str conversions.\n",
            "    \n",
            "    setdlopenflags(flags, /)\n",
            "        Set the flags used by the interpreter for dlopen calls.\n",
            "        \n",
            "        This is used, for example, when the interpreter loads extension\n",
            "        modules. Among other things, this will enable a lazy resolving of\n",
            "        symbols when importing a module, if called as sys.setdlopenflags(0).\n",
            "        To share symbols across extension modules, call as\n",
            "        sys.setdlopenflags(os.RTLD_GLOBAL).  Symbolic names for the flag\n",
            "        modules can be found in the os module (RTLD_xxx constants, e.g.\n",
            "        os.RTLD_LAZY).\n",
            "    \n",
            "    setprofile(...)\n",
            "        setprofile(function)\n",
            "        \n",
            "        Set the profiling function.  It will be called on each function call\n",
            "        and return.  See the profiler chapter in the library manual.\n",
            "    \n",
            "    setrecursionlimit(limit, /)\n",
            "        Set the maximum depth of the Python interpreter stack to n.\n",
            "        \n",
            "        This limit prevents infinite recursion from causing an overflow of the C\n",
            "        stack and crashing Python.  The highest possible limit is platform-\n",
            "        dependent.\n",
            "    \n",
            "    setswitchinterval(interval, /)\n",
            "        Set the ideal thread switching delay inside the Python interpreter.\n",
            "        \n",
            "        The actual frequency of switching threads can be lower if the\n",
            "        interpreter executes long sequences of uninterruptible code\n",
            "        (this is implementation-specific and workload-dependent).\n",
            "        \n",
            "        The parameter must represent the desired switching delay in seconds\n",
            "        A typical value is 0.005 (5 milliseconds).\n",
            "    \n",
            "    unraisablehook(unraisable, /)\n",
            "        Handle an unraisable exception.\n",
            "        \n",
            "        The unraisable argument has the following attributes:\n",
            "        \n",
            "        * exc_type: Exception type.\n",
            "        * exc_value: Exception value, can be None.\n",
            "        * exc_traceback: Exception traceback, can be None.\n",
            "        * err_msg: Error message, can be None.\n",
            "        * object: Object causing the exception, can be None.\n",
            "\n",
            "DATA\n",
            "    __stderr__ = <_io.TextIOWrapper name='<stderr>' mode='w' encoding='utf...\n",
            "    __stdin__ = <_io.TextIOWrapper name='<stdin>' mode='r' encoding='utf-8...\n",
            "    __stdout__ = <_io.TextIOWrapper name='<stdout>' mode='w' encoding='utf...\n",
            "    abiflags = ''\n",
            "    api_version = 1013\n",
            "    argv = ['/usr/local/lib/python3.10/dist-packages/colab_kernel_launcher...\n",
            "    base_exec_prefix = '/usr'\n",
            "    base_prefix = '/usr'\n",
            "    builtin_module_names = ('_abc', '_ast', '_bisect', '_blake2', '_codecs...\n",
            "    byteorder = 'little'\n",
            "    copyright = 'Copyright (c) 2001-2023 Python Software Foundati...ematis...\n",
            "    displayhook = <ipykernel.displayhook.ZMQShellDisplayHook object>\n",
            "    dont_write_bytecode = False\n",
            "    exec_prefix = '/usr'\n",
            "    executable = '/usr/bin/python3'\n",
            "    flags = sys.flags(debug=0, inspect=0, interactive=0, opt..., warn_defa...\n",
            "    float_info = sys.float_info(max=1.7976931348623157e+308, max_...epsilo...\n",
            "    float_repr_style = 'short'\n",
            "    hash_info = sys.hash_info(width=64, modulus=2305843009213693...iphash2...\n",
            "    hexversion = 50990320\n",
            "    implementation = namespace(name='cpython', cache_tag='cpython-310...xv...\n",
            "    int_info = sys.int_info(bits_per_digit=30, sizeof_digit=4, ..._str_dig...\n",
            "    last_value = TypeError(\"'list' object is not callable\")\n",
            "    maxsize = 9223372036854775807\n",
            "    maxunicode = 1114111\n",
            "    meta_path = [<google.colab._import_hooks._pydrive2._PyDrive2ImportHook...\n",
            "    modules = {'IPython': <module 'IPython' from '/usr/local/lib/python3.1...\n",
            "    orig_argv = ['/usr/bin/python3', '-m', 'colab_kernel_launcher', '-f', ...\n",
            "    path = ['/content', '/env/python', '/usr/lib/python310.zip', '/usr/lib...\n",
            "    path_hooks = [<class 'zipimport.zipimporter'>, <function FileFinder.pa...\n",
            "    path_importer_cache = {'': FileFinder('/content/.'), '/content': FileF...\n",
            "    platform = 'linux'\n",
            "    platlibdir = 'lib'\n",
            "    prefix = '/usr'\n",
            "    ps1 = 'In : '\n",
            "    ps2 = '...: '\n",
            "    ps3 = 'Out: '\n",
            "    pycache_prefix = None\n",
            "    stderr = <ipykernel.iostream.OutStream object>\n",
            "    stdin = <_io.TextIOWrapper name='<stdin>' mode='r' encoding='utf-8'>\n",
            "    stdlib_module_names = frozenset({'__future__', '_abc', '_aix_support',...\n",
            "    stdout = <ipykernel.iostream.OutStream object>\n",
            "    thread_info = sys.thread_info(name='pthread', lock='semaphore', versio...\n",
            "    version = '3.10.12 (main, Nov 20 2023, 15:14:05) [GCC 11.4.0]'\n",
            "    version_info = sys.version_info(major=3, minor=10, micro=12, releasele...\n",
            "    warnoptions = ['ignore:::pip._internal.cli.base_command']\n",
            "\n",
            "FILE\n",
            "    (built-in)\n",
            "\n",
            "\n"
          ]
        }
      ]
    }
  ]
}