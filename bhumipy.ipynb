{
  "cells": [
    {
      "cell_type": "code",
      "execution_count": null,
      "metadata": {
        "colab": {
          "base_uri": "https://localhost:8080/"
        },
        "id": "pAbH61c7_cRj",
        "outputId": "a1e106c9-fb23-4406-8ef9-c1067eaea8d5"
      },
      "outputs": [
        {
          "name": "stdout",
          "output_type": "stream",
          "text": [
            "['apples', 'banana', 'oranges']\n"
          ]
        }
      ],
      "source": [
        "fruit =['apples','banana','oranges']\n",
        "print(fruit)"
      ]
    },
    {
      "cell_type": "code",
      "execution_count": null,
      "metadata": {},
      "outputs": [],
      "source": [
        "from datetime import *\n",
        "import pytz\n",
        "\n",
        "tz_INDIA = pytz.timezone('Asia/Kolkata')\n",
        "datetime_INDIA = datetime.now(tz_INDIA)\n",
        "print(\"INDIA time: \", datetime_INDIA.strftime(\"%H:%M:%S\"))"
      ]
    },
    {
      "cell_type": "code",
      "execution_count": null,
      "metadata": {
        "colab": {
          "base_uri": "https://localhost:8080/"
        },
        "id": "JT9gwpB9AELd",
        "outputId": "4b58c5bb-e1de-452d-c8ff-4d107b94f6a3"
      },
      "outputs": [
        {
          "data": {
            "text/plain": [
              "['bhumi', 'python']"
            ]
          },
          "execution_count": 2,
          "metadata": {},
          "output_type": "execute_result"
        }
      ],
      "source": [
        "mylist= ['10','20','bhumi','python']\n",
        "mylist[2:5]"
      ]
    },
    {
      "cell_type": "code",
      "execution_count": null,
      "metadata": {
        "colab": {
          "base_uri": "https://localhost:8080/"
        },
        "id": "9OlYnT3PBJHK",
        "outputId": "944b96f9-49f3-483b-ee6a-0fb635f9e325"
      },
      "outputs": [
        {
          "name": "stdout",
          "output_type": "stream",
          "text": [
            "['10', 25, 'bhumi', 'python']\n"
          ]
        }
      ],
      "source": [
        "#changing values in lists\n",
        "mylist[1]=25\n",
        "print(mylist)"
      ]
    },
    {
      "cell_type": "code",
      "execution_count": null,
      "metadata": {
        "colab": {
          "base_uri": "https://localhost:8080/"
        },
        "id": "4AqrVFa4BekX",
        "outputId": "066e0bb0-b3c9-4623-c317-00a69bcf2bc3"
      },
      "outputs": [
        {
          "data": {
            "text/plain": [
              "['10', 25, 'bhumi', 100, 100, 100, 'python', 34]"
            ]
          },
          "execution_count": 7,
          "metadata": {},
          "output_type": "execute_result"
        }
      ],
      "source": [
        "mylist.insert(3,100)\n",
        "mylist"
      ]
    },
    {
      "cell_type": "code",
      "execution_count": null,
      "metadata": {
        "colab": {
          "base_uri": "https://localhost:8080/"
        },
        "id": "u2hy7X-oCFI8",
        "outputId": "105e3394-5197-4c5c-b869-9135da7a4b34"
      },
      "outputs": [
        {
          "data": {
            "text/plain": [
              "['10', 25, 'bhumi', 100, 'upes', 100, 100, 'python', 34]"
            ]
          },
          "execution_count": 8,
          "metadata": {},
          "output_type": "execute_result"
        }
      ],
      "source": [
        "mylist.insert(4,\"upes\")\n",
        "mylist"
      ]
    },
    {
      "cell_type": "code",
      "execution_count": null,
      "metadata": {
        "colab": {
          "base_uri": "https://localhost:8080/"
        },
        "id": "1g4mHDsCChKf",
        "outputId": "3771e9a4-cf61-4ab9-aab8-5bdd5018b915"
      },
      "outputs": [
        {
          "data": {
            "text/plain": [
              "[34, 'python', 100, 100, 'upes', 100, 'bhumi', 25, '10']"
            ]
          },
          "execution_count": 9,
          "metadata": {},
          "output_type": "execute_result"
        }
      ],
      "source": [
        "#reversing the list\n",
        "mylist.reverse()\n",
        "mylist"
      ]
    },
    {
      "cell_type": "code",
      "execution_count": null,
      "metadata": {
        "colab": {
          "base_uri": "https://localhost:8080/"
        },
        "id": "1fCUnqOjDl4t",
        "outputId": "c3ff765a-8801-4c39-8dec-ec6c351c417e"
      },
      "outputs": [
        {
          "name": "stdout",
          "output_type": "stream",
          "text": [
            "[1, 2, 3, 7]\n"
          ]
        }
      ],
      "source": [
        "a =[1,2,3]\n",
        "a.append(7)\n",
        "print(a)"
      ]
    },
    {
      "cell_type": "code",
      "execution_count": null,
      "metadata": {
        "id": "MU4z3TL9EVcz"
      },
      "outputs": [],
      "source": [
        "courses={1 : 'python',\n",
        "          2 : 'datascience',\n",
        "         'third' : 'AI'}"
      ]
    },
    {
      "cell_type": "code",
      "execution_count": null,
      "metadata": {
        "colab": {
          "base_uri": "https://localhost:8080/"
        },
        "id": "_c0PVGf5FUXw",
        "outputId": "5930fdcf-a9ce-4ec1-c966-b27ce0a8c883"
      },
      "outputs": [
        {
          "name": "stdout",
          "output_type": "stream",
          "text": [
            "{1: 'python', 2: 'datascience', 'third': 'AI'}\n"
          ]
        }
      ],
      "source": [
        "print(courses)"
      ]
    },
    {
      "cell_type": "code",
      "execution_count": null,
      "metadata": {
        "colab": {
          "base_uri": "https://localhost:8080/",
          "height": 36
        },
        "id": "B9Vsc3NBFe0e",
        "outputId": "503bad10-d1dd-430b-b1de-c0842b55fd1d"
      },
      "outputs": [
        {
          "data": {
            "application/vnd.google.colaboratory.intrinsic+json": {
              "type": "string"
            },
            "text/plain": [
              "'datascience'"
            ]
          },
          "execution_count": 16,
          "metadata": {},
          "output_type": "execute_result"
        }
      ],
      "source": [
        "courses[2]\n"
      ]
    },
    {
      "cell_type": "code",
      "execution_count": null,
      "metadata": {
        "colab": {
          "base_uri": "https://localhost:8080/"
        },
        "id": "Mc2O5xPcFxhD",
        "outputId": "34250f7e-8a50-441a-acc4-fe36c81babbf"
      },
      "outputs": [
        {
          "name": "stdout",
          "output_type": "stream",
          "text": [
            "('tiger', 'giraffe', 'loin', '10', '20', '30')\n"
          ]
        }
      ],
      "source": [
        "tuple=('tiger','giraffe','loin','10','20','30')\n",
        "print(tuple)"
      ]
    },
    {
      "cell_type": "code",
      "execution_count": null,
      "metadata": {
        "colab": {
          "base_uri": "https://localhost:8080/",
          "height": 36
        },
        "id": "o1ppNjNIGIdd",
        "outputId": "cd8f7dde-581b-478d-8fa0-e859178940b2"
      },
      "outputs": [
        {
          "data": {
            "application/vnd.google.colaboratory.intrinsic+json": {
              "type": "string"
            },
            "text/plain": [
              "'loin'"
            ]
          },
          "execution_count": 18,
          "metadata": {},
          "output_type": "execute_result"
        }
      ],
      "source": [
        "tuple[2]"
      ]
    },
    {
      "cell_type": "code",
      "execution_count": null,
      "metadata": {
        "colab": {
          "base_uri": "https://localhost:8080/"
        },
        "id": "lKbWs00_GOax",
        "outputId": "027ca420-728b-4816-b133-2e07f778038d"
      },
      "outputs": [
        {
          "name": "stdout",
          "output_type": "stream",
          "text": [
            "string manuplation exercise \n",
            " string concatenation is done with '+' sign\n",
            " for example print('hello + touseef')\n",
            " new lines can be created with backlash and\n",
            "\n"
          ]
        }
      ],
      "source": [
        "print(\"string manuplation exercise \\n string concatenation is done with '+' sign\\n for example print('hello + touseef')\\n new lines can be created with backlash and\\n\")"
      ]
    },
    {
      "cell_type": "code",
      "execution_count": null,
      "metadata": {
        "colab": {
          "base_uri": "https://localhost:8080/",
          "height": 53
        },
        "id": "zAko2VGmel9S",
        "outputId": "f5364b3e-72fb-4158-9384-7c01382f9df5"
      },
      "outputs": [
        {
          "name": "stdout",
          "output_type": "stream",
          "text": [
            "what is your nameupes\n"
          ]
        },
        {
          "data": {
            "application/vnd.google.colaboratory.intrinsic+json": {
              "type": "string"
            },
            "text/plain": [
              "'upes'"
            ]
          },
          "execution_count": 5,
          "metadata": {},
          "output_type": "execute_result"
        }
      ],
      "source": [
        "input(\"what is your name\")"
      ]
    },
    {
      "cell_type": "code",
      "execution_count": null,
      "metadata": {
        "colab": {
          "base_uri": "https://localhost:8080/"
        },
        "id": "4FLYAse3ey8R",
        "outputId": "51b24c15-08a7-4a0e-f5aa-64c3e658b583"
      },
      "outputs": [
        {
          "name": "stdout",
          "output_type": "stream",
          "text": [
            "enter the value of a=3\n",
            "enter the value of b=6\n",
            "a=6\n",
            "b=3\n"
          ]
        }
      ],
      "source": [
        "#swapping of two numbers\n",
        "a=input(\"enter the value of a=\")\n",
        "b=input(\"enter the value of b=\")\n",
        "temp=a\n",
        "a=b\n",
        "b=temp\n",
        "print(\"a=\" + a)\n",
        "print(\"b=\" + b)"
      ]
    },
    {
      "cell_type": "code",
      "execution_count": null,
      "metadata": {
        "colab": {
          "base_uri": "https://localhost:8080/"
        },
        "id": "R9EKo776fLM1",
        "outputId": "6a0fb21f-a924-4001-b035-9c2cfe7dce6b"
      },
      "outputs": [
        {
          "name": "stdout",
          "output_type": "stream",
          "text": [
            "22\n"
          ]
        }
      ],
      "source": [
        "#name=\"bhumi\"\n",
        "name=\"12\"\n",
        "print( 10 + int(name))"
      ]
    },
    {
      "cell_type": "code",
      "execution_count": null,
      "metadata": {
        "colab": {
          "base_uri": "https://localhost:8080/"
        },
        "id": "aV2_0fsag10U",
        "outputId": "7c470f2b-bd34-4a80-cca0-65a9cc2e8fd3"
      },
      "outputs": [
        {
          "name": "stdout",
          "output_type": "stream",
          "text": [
            "enter the value of height in m56\n",
            "Enter the value of weight in kg99\n",
            "BMI is 0.031568877551020405\n"
          ]
        }
      ],
      "source": [
        "#BMI=weight/height*2\n",
        "height=float(input(\"enter the value of height in m\"))\n",
        "weight=float(input(\"Enter the value of weight in kg\"))\n",
        "bmi= weight/ (height * height)\n",
        "print(\"BMI is\", bmi)"
      ]
    },
    {
      "cell_type": "code",
      "execution_count": null,
      "metadata": {
        "colab": {
          "base_uri": "https://localhost:8080/"
        },
        "id": "79TP2iFplR8c",
        "outputId": "4795a5aa-d126-4d2b-f7b2-403f47430acc"
      },
      "outputs": [
        {
          "name": "stdout",
          "output_type": "stream",
          "text": [
            "4\n"
          ]
        }
      ],
      "source": [
        "abc=5\n",
        "acb=4\n",
        "print(abc & acb)"
      ]
    },
    {
      "cell_type": "code",
      "execution_count": null,
      "metadata": {
        "colab": {
          "base_uri": "https://localhost:8080/"
        },
        "id": "cwRqP87nrTtm",
        "outputId": "157c2856-f659-4ef7-bca6-7eab064f23e7"
      },
      "outputs": [
        {
          "name": "stdout",
          "output_type": "stream",
          "text": [
            "5\n"
          ]
        }
      ],
      "source": [
        "print(abc|acb)"
      ]
    },
    {
      "cell_type": "code",
      "execution_count": null,
      "metadata": {
        "colab": {
          "base_uri": "https://localhost:8080/"
        },
        "id": "Y9-iad6MraRF",
        "outputId": "617692b6-c897-4f86-bb07-186f7b7fbeb3"
      },
      "outputs": [
        {
          "name": "stdout",
          "output_type": "stream",
          "text": [
            "-6\n"
          ]
        }
      ],
      "source": [
        "print(~abc)"
      ]
    },
    {
      "cell_type": "code",
      "execution_count": null,
      "metadata": {
        "colab": {
          "base_uri": "https://localhost:8080/"
        },
        "id": "L1VNwv6VrglV",
        "outputId": "ea89e012-ffa5-4762-ff80-3fa598ea4f91"
      },
      "outputs": [
        {
          "name": "stdout",
          "output_type": "stream",
          "text": [
            "-5\n"
          ]
        }
      ],
      "source": [
        "print(~acb)"
      ]
    },
    {
      "cell_type": "code",
      "execution_count": null,
      "metadata": {
        "colab": {
          "base_uri": "https://localhost:8080/"
        },
        "id": "FChZxsVhrmZy",
        "outputId": "cc3bc360-ae43-4c1e-f215-cc69cc4c2353"
      },
      "outputs": [
        {
          "name": "stdout",
          "output_type": "stream",
          "text": [
            "1\n"
          ]
        }
      ],
      "source": [
        "print(abc>>2)"
      ]
    },
    {
      "cell_type": "code",
      "execution_count": null,
      "metadata": {
        "colab": {
          "base_uri": "https://localhost:8080/"
        },
        "id": "iN4bWftQsMCx",
        "outputId": "c3d045ff-25a3-4624-b211-4d8b1d005c70"
      },
      "outputs": [
        {
          "name": "stdout",
          "output_type": "stream",
          "text": [
            "True\n"
          ]
        }
      ],
      "source": [
        "xy=6\n",
        "yz=6\n",
        "print(xy==yz)"
      ]
    },
    {
      "cell_type": "code",
      "execution_count": null,
      "metadata": {
        "colab": {
          "base_uri": "https://localhost:8080/"
        },
        "id": "67nREpWssZvf",
        "outputId": "c4d2e4bd-f1a0-4470-9ce1-7e10f775592c"
      },
      "outputs": [
        {
          "name": "stdout",
          "output_type": "stream",
          "text": [
            "137472143393168\n"
          ]
        }
      ],
      "source": [
        "print(id(xy))"
      ]
    },
    {
      "cell_type": "code",
      "execution_count": null,
      "metadata": {
        "colab": {
          "base_uri": "https://localhost:8080/"
        },
        "id": "TGEAxtEIsjoN",
        "outputId": "4ba0555e-80f2-4015-ca7f-7a30c6e44e6b"
      },
      "outputs": [
        {
          "name": "stdout",
          "output_type": "stream",
          "text": [
            "137472143393168\n"
          ]
        }
      ],
      "source": [
        "print(id(yz))"
      ]
    },
    {
      "cell_type": "code",
      "execution_count": null,
      "metadata": {
        "colab": {
          "base_uri": "https://localhost:8080/"
        },
        "id": "8bfYel9Csj01",
        "outputId": "b72bebab-da37-4c7b-a88d-e9999bf51a2b"
      },
      "outputs": [
        {
          "name": "stdout",
          "output_type": "stream",
          "text": [
            "True\n"
          ]
        }
      ],
      "source": [
        "print(xy is yz)"
      ]
    },
    {
      "cell_type": "code",
      "execution_count": null,
      "metadata": {
        "colab": {
          "base_uri": "https://localhost:8080/"
        },
        "id": "h4SeHLSJtXEr",
        "outputId": "6c229749-95f2-4257-c883-af5f0148bbf8"
      },
      "outputs": [
        {
          "name": "stdout",
          "output_type": "stream",
          "text": [
            "True\n"
          ]
        }
      ],
      "source": [
        "str = \"bhumi\"\n",
        "print('mi' in str)"
      ]
    },
    {
      "cell_type": "code",
      "execution_count": null,
      "metadata": {
        "colab": {
          "base_uri": "https://localhost:8080/"
        },
        "id": "dKM2PQ8zV0ni",
        "outputId": "811d767b-9f92-4987-be02-404e1ef581f8"
      },
      "outputs": [
        {
          "name": "stdout",
          "output_type": "stream",
          "text": [
            "enter your age19\n",
            "you can apply for license\n"
          ]
        }
      ],
      "source": [
        "#if statement\n",
        "age=int(input(\"enter your age\"))\n",
        "if age>18:\n",
        "  print(\"you can apply for license\")\n",
        "  #print(\"you are not eligible\")#if you dont want to print anything after if block"
      ]
    },
    {
      "cell_type": "code",
      "execution_count": null,
      "metadata": {
        "colab": {
          "base_uri": "https://localhost:8080/"
        },
        "id": "07qf5HAHWjyH",
        "outputId": "f3dfc102-d126-4d3c-b384-7941f2124121"
      },
      "outputs": [
        {
          "name": "stdout",
          "output_type": "stream",
          "text": [
            "enter the numbers=67\n",
            "it is an odd number\n",
            "thankyou\n"
          ]
        }
      ],
      "source": [
        "number = int(input(\"enter the numbers=\"))\n",
        "if number % 2 == 0:\n",
        "  print(\"it is an even number\")\n",
        "else:\n",
        "  print(\"it is an odd number\")\n",
        "print(\"thankyou\")"
      ]
    },
    {
      "cell_type": "code",
      "execution_count": null,
      "metadata": {
        "colab": {
          "base_uri": "https://localhost:8080/"
        },
        "id": "wiAXMBDXXjvm",
        "outputId": "7207ebb3-879d-4bc9-8acd-b391474f63b1"
      },
      "outputs": [
        {
          "name": "stdout",
          "output_type": "stream",
          "text": [
            "the number is greater than 30\n",
            "bye\n"
          ]
        }
      ],
      "source": [
        "a=51\n",
        "if a%2 == 0:\n",
        " print(\"number is even\")\n",
        "if a>30:\n",
        "  print(\"the number is greater than 30\")\n",
        "  print(\"bye\")"
      ]
    },
    {
      "cell_type": "code",
      "execution_count": null,
      "metadata": {
        "id": "b_RjusTvZCHf"
      },
      "outputs": [],
      "source": [
        "#we are going in a park and they ask you about your age to check how much money you have to pay for\n",
        "ht = int(input(\"enter your height=\"))\n",
        "if ht >= 4:\n",
        "  print(\"you can ride\")\n",
        "  age = int(input(\"enter your age\"))\n",
        "  if age<=18:\n",
        "    print(\"you have to pay 250rs\")\n",
        "  else:\n",
        "    print(\"you have to pay 500rs\")\n",
        "else:\n",
        "   print(\"you cannot ride\")\n"
      ]
    },
    {
      "cell_type": "code",
      "execution_count": null,
      "metadata": {
        "colab": {
          "base_uri": "https://localhost:8080/"
        },
        "id": "xtoPsfhRb0Gp",
        "outputId": "f72ed32d-6a75-49d8-ca3f-d7620154907b"
      },
      "outputs": [
        {
          "name": "stdout",
          "output_type": "stream",
          "text": [
            "enter the input3\n",
            "three\n"
          ]
        }
      ],
      "source": [
        "number = int(input(\"enter the input\"))\n",
        "if number == 1:\n",
        "  print(\"one\")\n",
        "if number == 2:\n",
        "  print(\"two\")\n",
        "if number == 3:\n",
        "  print(\"three\")"
      ]
    },
    {
      "cell_type": "code",
      "execution_count": null,
      "metadata": {
        "colab": {
          "base_uri": "https://localhost:8080/"
        },
        "id": "c3tev-fBdB4M",
        "outputId": "e6fb0aeb-ff28-4f1e-99e0-c3aa12fedfca"
      },
      "outputs": [
        {
          "name": "stdout",
          "output_type": "stream",
          "text": [
            "enter the number between 0 to 30..17\n",
            "number ranges from 10 and 20\n"
          ]
        }
      ],
      "source": [
        "# if elif else\n",
        "number = int(input(\"enter the number between 0 to 30..\"))\n",
        "if (number > 0 and number <= 10):\n",
        "    print(\"number ranges from 0 to 10\")\n",
        "elif (number > 10 and number <= 20):\n",
        "    print(\"number ranges from 10 and 20\")\n",
        "elif(number >20 and number <=30):\n",
        "    print(\"number ranges from 20 to 30\")\n",
        "else:\n",
        "  print(\"you have not entered correct number\")\n"
      ]
    },
    {
      "cell_type": "code",
      "execution_count": null,
      "metadata": {
        "colab": {
          "base_uri": "https://localhost:8080/"
        },
        "id": "zJaM-HJRkzQx",
        "outputId": "d334a8b4-8020-4ed1-c56b-3cde12bf90b5"
      },
      "outputs": [
        {
          "name": "stdout",
          "output_type": "stream",
          "text": [
            "enter the year you want to check1967\n",
            "it is not leap year\n"
          ]
        }
      ],
      "source": [
        "year = int(input(\"enter the year you want to check\"))\n",
        "if year % 4 == 0:\n",
        "    if year % 100 == 0:\n",
        "        if year % 400 == 0:\n",
        "            print(\"leap year\")\n",
        "        else:\n",
        "            print(\"not a leap year\")\n",
        "    else:\n",
        "        print(\"leap year\")\n",
        "else:\n",
        "    print(\"it is not leap year\")"
      ]
    },
    {
      "cell_type": "code",
      "execution_count": null,
      "metadata": {
        "colab": {
          "base_uri": "https://localhost:8080/"
        },
        "id": "y71S6xY6lR7c",
        "outputId": "ef418f90-c3d9-4b60-968f-5595391039ca"
      },
      "outputs": [
        {
          "name": "stdout",
          "output_type": "stream",
          "text": [
            "enter the height=3\n",
            "you are eligible to ride\n",
            "enter your age15\n",
            "you have to pay 250 rs\n",
            "do you want to take photo press Y or N: Y\n",
            "your bill is 300\n"
          ]
        }
      ],
      "source": [
        "height = int(input(\"enter the height=\"))\n",
        "bill=0\n",
        "if height >= 3:\n",
        "  print(\"you are eligible to ride\")\n",
        "  age = int(input(\"enter your age\"))\n",
        "  if age <= 12:\n",
        "     bill = 150\n",
        "     print(\"you have to pay 150rs\")\n",
        "  elif age <= 18:\n",
        "    bill = 250\n",
        "    print(\"you have to pay 250 rs\")\n",
        "  else:\n",
        "    bill = 500\n",
        "    print(\"you have to pay 500rs\")\n",
        "photo = input(\"do you want to take photo press Y or N: \")\n",
        "if photo == \"Y\" or photo == \"y\":\n",
        "  bill = bill + 50\n",
        "  print(\"your bill is\", bill)\n"
      ]
    },
    {
      "cell_type": "code",
      "execution_count": null,
      "metadata": {
        "colab": {
          "base_uri": "https://localhost:8080/"
        },
        "id": "fu8ko01nlxvR",
        "outputId": "fcf17ea3-4742-4c26-9e66-320d0bc9eea9"
      },
      "outputs": [
        {
          "name": "stdout",
          "output_type": "stream",
          "text": [
            "enter the size: large\n",
            "you have to pay 500\n",
            "do you want to take pepper press Y or N: Y\n",
            "do you want extra chheese press Y or N:Y\n",
            "your bill is 50\n"
          ]
        }
      ],
      "source": [
        "#bill for pizza\n",
        "size = input(\"enter the size: \")\n",
        "bill = 0\n",
        "if size == \"small\":\n",
        "  bill = 200\n",
        "  print(\"you have to pay 200rs\")\n",
        "elif size == \"medium\":\n",
        "  print(\"you have to pay 400\")\n",
        "elif size == \"large\":\n",
        "  print(\"you have to pay 500\")\n",
        "  pepper = input(\"do you want to take pepper press Y or N: \")\n",
        "  if pepper == \"Y\" or pepper == \"y\":\n",
        "    bill = bill + 50\n",
        "  extra_cheese = input(\"do you want extra chheese press Y or N:\")\n",
        "  if extra_cheese == \"Y\" or extra_cheese == \"y\":\n",
        "    bill2 = bill +20\n",
        "  print(\"your bill is\",bill)\n"
      ]
    },
    {
      "cell_type": "code",
      "execution_count": null,
      "metadata": {
        "colab": {
          "base_uri": "https://localhost:8080/"
        },
        "id": "GvBz-OO0q5Ix",
        "outputId": "395c8afe-e96d-4568-c967-a23ab36aba69"
      },
      "outputs": [
        {
          "name": "stdout",
          "output_type": "stream",
          "text": [
            "enter the pizza size[S,M,L] M\n",
            "do you want to add extra cheese....Y or N Y\n",
            "250\n"
          ]
        }
      ],
      "source": [
        "piz=input(\"enter the pizza size[S,M,L] \")\n",
        "if(piz=='S' or piz=='s'):\n",
        "  bill=100\n",
        "  a=input(\"do you want to add extra cheese....Y or N \")\n",
        "  if(a=='Y' or a=='y'):\n",
        "    bill+=30\n",
        "elif(piz=='M' or piz=='m'):\n",
        "  bill=200\n",
        "  a=input(\"do you want to add extra cheese....Y or N \")\n",
        "  if(a=='Y' or a=='y'):\n",
        "    bill+=50\n",
        "elif(piz=='L' or piz=='l'):\n",
        "  bill=300\n",
        "  a=input(\"do you want to add extra cheese....Y or N \")\n",
        "  if(a=='Y' or a=='y'):\n",
        "    bill+=50\n",
        "else:\n",
        "  print(\"don't need pizza\")\n",
        "print(bill)"
      ]
    },
    {
      "cell_type": "code",
      "execution_count": null,
      "metadata": {
        "colab": {
          "base_uri": "https://localhost:8080/"
        },
        "id": "4SB2vRK6rC8E",
        "outputId": "cda904f4-734a-4bf9-b6d2-0a649fd2c031"
      },
      "outputs": [
        {
          "name": "stdout",
          "output_type": "stream",
          "text": [
            "heads\n"
          ]
        }
      ],
      "source": [
        "#virtual toss program\n",
        "import random\n",
        "side =random.randint(0,1)\n",
        "if side==1:\n",
        "  print(\"heads\")\n",
        "else:\n",
        "    print(\"tails\")"
      ]
    },
    {
      "cell_type": "code",
      "execution_count": null,
      "metadata": {
        "colab": {
          "base_uri": "https://localhost:8080/"
        },
        "id": "tz5oau6btSUX",
        "outputId": "83bf8560-d914-469a-f6e6-18830e5c7d61"
      },
      "outputs": [
        {
          "name": "stdout",
          "output_type": "stream",
          "text": [
            "['welcome', 'to', 'python', 'program']\n"
          ]
        }
      ],
      "source": [
        "text = \"welcome to python program\"\n",
        "text_s =text.split(\" \")\n",
        "print(text_s)"
      ]
    },
    {
      "cell_type": "code",
      "execution_count": null,
      "metadata": {
        "id": "r_ROQgnD9dR7"
      },
      "outputs": [],
      "source": [
        "matrix = []\n",
        "row1 = [0,0,0]\n",
        "row2 = [1,1,1]\n",
        "row3 = [2,2,2]\n",
        "print(f\"(row1)\\n (row2)\\n (row3)\\n\")\n",
        "matrix = [row1,row2,row3]\n",
        "\n",
        "position = input(\"enter the position\")\n",
        "print(\" \")"
      ]
    },
    {
      "cell_type": "code",
      "execution_count": null,
      "metadata": {
        "colab": {
          "base_uri": "https://localhost:8080/"
        },
        "id": "POYf0_iDAkGA",
        "outputId": "e4e7e595-2075-4fa1-9bd5-992bd92ac4ac"
      },
      "outputs": [
        {
          "data": {
            "text/plain": [
              "('upes', 10, 12.4, True)"
            ]
          },
          "execution_count": 2,
          "metadata": {},
          "output_type": "execute_result"
        }
      ],
      "source": [
        "tuple = (\"upes\" , 10, 12.4 , True )\n",
        "tuple\n"
      ]
    },
    {
      "cell_type": "code",
      "execution_count": null,
      "metadata": {
        "colab": {
          "base_uri": "https://localhost:8080/"
        },
        "id": "uWn0Hps7Be2C",
        "outputId": "5d5a2af4-1d90-4c05-da5d-c20a39b405ae"
      },
      "outputs": [
        {
          "data": {
            "text/plain": [
              "(10,)"
            ]
          },
          "execution_count": 3,
          "metadata": {},
          "output_type": "execute_result"
        }
      ],
      "source": [
        "tuple1 = (10,)\n",
        "tuple1"
      ]
    },
    {
      "cell_type": "code",
      "execution_count": null,
      "metadata": {
        "colab": {
          "base_uri": "https://localhost:8080/"
        },
        "id": "HhWkIo1QBo9B",
        "outputId": "d79e8ad9-f2e6-4b6a-80ae-f32f48ca41c2"
      },
      "outputs": [
        {
          "name": "stdout",
          "output_type": "stream",
          "text": [
            "<class 'tuple'>\n"
          ]
        }
      ],
      "source": [
        "print(type(tuple1))"
      ]
    },
    {
      "cell_type": "code",
      "execution_count": null,
      "metadata": {
        "colab": {
          "base_uri": "https://localhost:8080/"
        },
        "id": "shvvGUeGB1Wg",
        "outputId": "e4f8fd39-c296-49ee-db03-1e53ec8144dc"
      },
      "outputs": [
        {
          "name": "stdout",
          "output_type": "stream",
          "text": [
            "12.4\n"
          ]
        }
      ],
      "source": [
        "#slicing\n",
        "print(tuple[-2])"
      ]
    },
    {
      "cell_type": "code",
      "execution_count": null,
      "metadata": {
        "colab": {
          "base_uri": "https://localhost:8080/"
        },
        "id": "8pIcd_mqCAdF",
        "outputId": "a5e11fe9-f359-45c4-c5be-31a91be007ee"
      },
      "outputs": [
        {
          "name": "stdout",
          "output_type": "stream",
          "text": [
            "('upes', 10)\n"
          ]
        }
      ],
      "source": [
        "print(tuple[:-2])"
      ]
    },
    {
      "cell_type": "code",
      "execution_count": null,
      "metadata": {
        "colab": {
          "base_uri": "https://localhost:8080/"
        },
        "id": "tfRAD4tzCIoU",
        "outputId": "91b3cb02-2ca4-4f9e-c7c3-518653bfddd6"
      },
      "outputs": [
        {
          "name": "stdout",
          "output_type": "stream",
          "text": [
            "1\n"
          ]
        }
      ],
      "source": [
        "print(tuple.count(10))"
      ]
    },
    {
      "cell_type": "code",
      "execution_count": null,
      "metadata": {
        "colab": {
          "base_uri": "https://localhost:8080/"
        },
        "id": "OyQqQK-mCpUv",
        "outputId": "10101768-7c17-44dd-f467-04bf0e295767"
      },
      "outputs": [
        {
          "name": "stdout",
          "output_type": "stream",
          "text": [
            "1\n"
          ]
        }
      ],
      "source": [
        "print(tuple.index(10))"
      ]
    },
    {
      "cell_type": "code",
      "execution_count": null,
      "metadata": {
        "colab": {
          "base_uri": "https://localhost:8080/"
        },
        "id": "H0pPVzy_C8OJ",
        "outputId": "0df591f4-2455-4a7c-f55f-d832f31ea72c"
      },
      "outputs": [
        {
          "name": "stdout",
          "output_type": "stream",
          "text": [
            "{1, 34, 'upes', -23, -1}\n"
          ]
        }
      ],
      "source": [
        "set1 = {1,34,-23,\"upes\",-1,-23}\n",
        "print(set1)"
      ]
    },
    {
      "cell_type": "code",
      "execution_count": null,
      "metadata": {
        "id": "izdOUasPE6TG"
      },
      "outputs": [],
      "source": [
        "set1.add(99)"
      ]
    },
    {
      "cell_type": "code",
      "execution_count": null,
      "metadata": {
        "colab": {
          "base_uri": "https://localhost:8080/"
        },
        "id": "NUyOInYNFIzO",
        "outputId": "a119d825-2edc-44cc-dafb-1d4c15eb3d61"
      },
      "outputs": [
        {
          "name": "stdout",
          "output_type": "stream",
          "text": [
            "{1, 34, 99, 'upes', -23, -1}\n"
          ]
        }
      ],
      "source": [
        "print(set1)"
      ]
    },
    {
      "cell_type": "code",
      "execution_count": null,
      "metadata": {
        "colab": {
          "base_uri": "https://localhost:8080/"
        },
        "id": "RYB_UUggFUkC",
        "outputId": "1f2d01a1-0c30-4b6d-fa14-f1f90e27b125"
      },
      "outputs": [
        {
          "name": "stdout",
          "output_type": "stream",
          "text": [
            "set()\n"
          ]
        }
      ],
      "source": [
        "set1.clear()\n",
        "print(set1)"
      ]
    },
    {
      "cell_type": "code",
      "execution_count": null,
      "metadata": {
        "id": "2eIYGm9QFegr"
      },
      "outputs": [],
      "source": [
        "set2 = ()"
      ]
    },
    {
      "cell_type": "code",
      "execution_count": null,
      "metadata": {
        "colab": {
          "base_uri": "https://localhost:8080/"
        },
        "id": "yIM-xFUVF90U",
        "outputId": "28ec910c-13cc-4d67-d7ae-79360354ea64"
      },
      "outputs": [
        {
          "name": "stdout",
          "output_type": "stream",
          "text": [
            "<class 'tuple'>\n"
          ]
        }
      ],
      "source": [
        "print(type(set2))"
      ]
    },
    {
      "cell_type": "code",
      "execution_count": null,
      "metadata": {
        "id": "TyhW0PFPGNrQ"
      },
      "outputs": [],
      "source": [
        "ss=set()"
      ]
    },
    {
      "cell_type": "code",
      "execution_count": null,
      "metadata": {
        "colab": {
          "base_uri": "https://localhost:8080/"
        },
        "id": "ZtU1NJliGRRl",
        "outputId": "28e0bc52-6a53-4864-8450-498554b1bb3c"
      },
      "outputs": [
        {
          "name": "stdout",
          "output_type": "stream",
          "text": [
            "<class 'set'>\n"
          ]
        }
      ],
      "source": [
        "print(type(ss))"
      ]
    },
    {
      "cell_type": "code",
      "execution_count": null,
      "metadata": {
        "id": "z_0KmEIaGXcl"
      },
      "outputs": [],
      "source": [
        "set2 = {1,2,3,4,5,67,89, True, \"upes\", \"python\"}"
      ]
    },
    {
      "cell_type": "code",
      "execution_count": null,
      "metadata": {
        "colab": {
          "base_uri": "https://localhost:8080/",
          "height": 36
        },
        "id": "0pfGkZjgGnnt",
        "outputId": "af32799a-2381-4c09-cfd2-b9751ccc6c80"
      },
      "outputs": [
        {
          "data": {
            "application/vnd.google.colaboratory.intrinsic+json": {
              "type": "string"
            },
            "text/plain": [
              "'upes'"
            ]
          },
          "execution_count": 35,
          "metadata": {},
          "output_type": "execute_result"
        }
      ],
      "source": [
        "set2.pop()"
      ]
    },
    {
      "cell_type": "code",
      "execution_count": null,
      "metadata": {
        "colab": {
          "base_uri": "https://localhost:8080/"
        },
        "id": "TaVhYCyyU6f4",
        "outputId": "089a9169-3aa6-43cd-b708-73389a89e8a0"
      },
      "outputs": [
        {
          "name": "stdout",
          "output_type": "stream",
          "text": [
            "{34, 67, 12, 54, 89, 92, 31}\n"
          ]
        }
      ],
      "source": [
        "set1 = set([12,67,89,34])\n",
        "set2 = set([54,31,67,92])\n",
        "print(set1.union(set2))"
      ]
    },
    {
      "cell_type": "code",
      "execution_count": null,
      "metadata": {
        "id": "CCFbZOWrZIY2"
      },
      "outputs": [],
      "source": [
        "set1.update(set2)"
      ]
    },
    {
      "cell_type": "code",
      "execution_count": null,
      "metadata": {
        "colab": {
          "base_uri": "https://localhost:8080/"
        },
        "id": "RjlvGYdAZeQI",
        "outputId": "ced5dd5b-cf80-4487-a2e1-8d1041ce39fd"
      },
      "outputs": [
        {
          "name": "stdout",
          "output_type": "stream",
          "text": [
            "{34, 67, 12, 54, 89, 92, 31}\n"
          ]
        }
      ],
      "source": [
        "print(set1)"
      ]
    },
    {
      "cell_type": "code",
      "execution_count": null,
      "metadata": {
        "colab": {
          "base_uri": "https://localhost:8080/"
        },
        "id": "Ik5kiKrNZ8Zt",
        "outputId": "45ada304-c43f-4aa4-c067-ac3c6f906daf"
      },
      "outputs": [
        {
          "data": {
            "text/plain": [
              "{31, 54, 67, 92}"
            ]
          },
          "execution_count": 5,
          "metadata": {},
          "output_type": "execute_result"
        }
      ],
      "source": [
        "set1.intersection(set2)"
      ]
    },
    {
      "cell_type": "code",
      "execution_count": null,
      "metadata": {
        "colab": {
          "base_uri": "https://localhost:8080/"
        },
        "id": "4Z0_vBXYaier",
        "outputId": "5c79b690-3354-402e-fe92-d34c20389a5b"
      },
      "outputs": [
        {
          "data": {
            "text/plain": [
              "{31, 54, 67, 92}"
            ]
          },
          "execution_count": 6,
          "metadata": {},
          "output_type": "execute_result"
        }
      ],
      "source": [
        "set1 & set2"
      ]
    },
    {
      "cell_type": "code",
      "execution_count": null,
      "metadata": {
        "id": "u-LBaaQ9bDz1"
      },
      "outputs": [],
      "source": [
        "set1.intersection_update(set2)"
      ]
    },
    {
      "cell_type": "code",
      "execution_count": null,
      "metadata": {
        "colab": {
          "base_uri": "https://localhost:8080/"
        },
        "id": "KR2R3bdcbLpj",
        "outputId": "36ffacc7-dfa9-4b39-8389-8c96c21fccf5"
      },
      "outputs": [
        {
          "data": {
            "text/plain": [
              "{31, 54, 67, 92}"
            ]
          },
          "execution_count": 8,
          "metadata": {},
          "output_type": "execute_result"
        }
      ],
      "source": [
        "set1"
      ]
    },
    {
      "cell_type": "code",
      "execution_count": null,
      "metadata": {
        "colab": {
          "base_uri": "https://localhost:8080/"
        },
        "id": "59ODX3R6f9Fs",
        "outputId": "6fc9f4bd-7758-4a95-c728-7d8c89f7f94a"
      },
      "outputs": [
        {
          "name": "stdout",
          "output_type": "stream",
          "text": [
            "u\n",
            "p\n",
            "e\n",
            "s\n"
          ]
        }
      ],
      "source": [
        "name = \"upes\"\n",
        "for x in name:\n",
        "  print(x)"
      ]
    },
    {
      "cell_type": "code",
      "execution_count": null,
      "metadata": {
        "colab": {
          "base_uri": "https://localhost:8080/"
        },
        "id": "vlHrVOUmiKwz",
        "outputId": "7b290f24-ac0d-48a1-c138-a0937788da12"
      },
      "outputs": [
        {
          "name": "stdout",
          "output_type": "stream",
          "text": [
            "python\n",
            "upes\n",
            "socs\n"
          ]
        }
      ],
      "source": [
        "list = [\"python\",\"upes\",\"socs\"]\n",
        "for x in list:\n",
        "  print(x)"
      ]
    },
    {
      "cell_type": "code",
      "execution_count": null,
      "metadata": {
        "colab": {
          "base_uri": "https://localhost:8080/"
        },
        "id": "DjC7F47pkIiq",
        "outputId": "be396de9-398b-4841-e0e8-0599a5c99540"
      },
      "outputs": [
        {
          "name": "stdout",
          "output_type": "stream",
          "text": [
            "1\n",
            "the list has been executed successfully\n",
            "1\n",
            "the list has been executed successfully\n",
            "1\n"
          ]
        }
      ],
      "source": [
        "numbers = [12,23,43,56,67]\n",
        "for i in numbers:\n",
        "  print(1)\n",
        "  if i == 43:\n",
        "    break\n",
        "  else:\n",
        "      print(\"the list has been executed successfully\")"
      ]
    },
    {
      "cell_type": "code",
      "execution_count": null,
      "metadata": {
        "id": "wgtWRuXhk3t4"
      },
      "outputs": [],
      "source": [
        "i = int(input(\"enter height in number\"))\n",
        "ct = 0\n",
        "for i in range(len(list)):\n",
        "  list.append(i)\n",
        "  ct+= int(list[i])\n",
        "  print(ct)\n"
      ]
    },
    {
      "cell_type": "code",
      "execution_count": null,
      "metadata": {
        "id": "2SLisdazkRU0"
      },
      "outputs": [],
      "source": [
        "# Use the list1 variable instead of height_list\n",
        "count = 0\n",
        "for x in list1:\n",
        "  count = count + 1\n",
        "  print(count)\n",
        "  for i in range(count):\n",
        "    list1[1] = int(list1[1])\n",
        "    print(list1)\n",
        "    total = 0\n",
        "    for i in list1:\n",
        "      total = total + 1\n",
        "      print(total)\n",
        "      avg = total/count\n",
        "      print(round(avg))"
      ]
    },
    {
      "cell_type": "code",
      "execution_count": 6,
      "metadata": {
        "colab": {
          "base_uri": "https://localhost:8080/"
        },
        "id": "HHgHuIOskST-",
        "outputId": "a64457b6-c473-41d8-a284-92425ae018fc"
      },
      "outputs": [
        {
          "name": "stdout",
          "output_type": "stream",
          "text": [
            "2\n",
            "3\n",
            "4\n"
          ]
        }
      ],
      "source": [
        "for i in range(2, 5):\n",
        "  print(i)"
      ]
    },
    {
      "cell_type": "code",
      "execution_count": 11,
      "metadata": {
        "colab": {
          "base_uri": "https://localhost:8080/"
        },
        "id": "iIlMGNkmkqpf",
        "outputId": "20195de7-eddd-4330-f0c7-94fbab5dae46"
      },
      "outputs": [
        {
          "name": "stdout",
          "output_type": "stream",
          "text": [
            "-1\n",
            "-2\n",
            "-3\n",
            "-4\n",
            "-5\n",
            "-6\n",
            "-7\n",
            "-8\n",
            "-9\n",
            "-10\n"
          ]
        }
      ],
      "source": [
        "for i in range(-1,-11,-1):\n",
        "  print(i)"
      ]
    },
    {
      "cell_type": "code",
      "execution_count": 13,
      "metadata": {
        "colab": {
          "base_uri": "https://localhost:8080/"
        },
        "id": "ONwgadoHlI0w",
        "outputId": "ec38050f-baca-4b4d-a9ed-3f8734ae51c9"
      },
      "outputs": [
        {
          "name": "stdout",
          "output_type": "stream",
          "text": [
            "0\n",
            "2\n",
            "6\n",
            "12\n",
            "20\n",
            "30\n",
            "42\n",
            "56\n",
            "72\n",
            "90\n",
            "110\n",
            "132\n",
            "156\n",
            "182\n",
            "210\n",
            "240\n",
            "272\n",
            "306\n",
            "342\n",
            "380\n",
            "420\n",
            "462\n",
            "506\n",
            "552\n",
            "600\n",
            "650\n",
            "702\n",
            "756\n",
            "812\n",
            "870\n",
            "930\n",
            "992\n",
            "1056\n",
            "1122\n",
            "1190\n",
            "1260\n",
            "1332\n",
            "1406\n",
            "1482\n",
            "1560\n",
            "1640\n",
            "1722\n",
            "1806\n",
            "1892\n",
            "1980\n",
            "2070\n",
            "2162\n",
            "2256\n",
            "2352\n",
            "2450\n",
            "2550\n"
          ]
        }
      ],
      "source": [
        "sum = 0\n",
        "for i in range (0, 101, 2):\n",
        "  sum = sum + i\n",
        "  print(sum)"
      ]
    },
    {
      "cell_type": "code",
      "execution_count": 18,
      "metadata": {
        "colab": {
          "base_uri": "https://localhost:8080/"
        },
        "id": "gLeYDRlqlXFw",
        "outputId": "b353113c-5fb7-4059-b290-e56236eb0028"
      },
      "outputs": [
        {
          "name": "stdout",
          "output_type": "stream",
          "text": [
            "fizzbuzz\n",
            "1\n",
            "2\n",
            "fizz\n",
            "4\n",
            "buzz\n",
            "fizz\n",
            "7\n",
            "8\n",
            "fizz\n",
            "buzz\n",
            "11\n",
            "fizz\n",
            "13\n",
            "14\n",
            "fizzbuzz\n",
            "16\n",
            "17\n",
            "fizz\n",
            "19\n",
            "buzz\n",
            "fizz\n",
            "22\n",
            "23\n",
            "fizz\n",
            "buzz\n",
            "26\n",
            "fizz\n",
            "28\n",
            "29\n",
            "fizzbuzz\n",
            "31\n",
            "32\n",
            "fizz\n",
            "34\n",
            "buzz\n",
            "fizz\n",
            "37\n",
            "38\n",
            "fizz\n",
            "buzz\n",
            "41\n",
            "fizz\n",
            "43\n",
            "44\n",
            "fizzbuzz\n",
            "46\n",
            "47\n",
            "fizz\n",
            "49\n",
            "buzz\n",
            "fizz\n",
            "52\n",
            "53\n",
            "fizz\n",
            "buzz\n",
            "56\n",
            "fizz\n",
            "58\n",
            "59\n",
            "fizzbuzz\n",
            "61\n",
            "62\n",
            "fizz\n",
            "64\n",
            "buzz\n",
            "fizz\n",
            "67\n",
            "68\n",
            "fizz\n",
            "buzz\n",
            "71\n",
            "fizz\n",
            "73\n",
            "74\n",
            "fizzbuzz\n",
            "76\n",
            "77\n",
            "fizz\n",
            "79\n",
            "buzz\n",
            "fizz\n",
            "82\n",
            "83\n",
            "fizz\n",
            "buzz\n",
            "86\n",
            "fizz\n",
            "88\n",
            "89\n",
            "fizzbuzz\n",
            "91\n",
            "92\n",
            "fizz\n",
            "94\n",
            "buzz\n",
            "fizz\n",
            "97\n",
            "98\n",
            "fizz\n",
            "buzz\n"
          ]
        }
      ],
      "source": [
        "#fizz buzz job program\n",
        "for i in range(0 , 101 , 1):\n",
        "   if i%3 == 0 and i%5 == 0:\n",
        "     print(\"fizzbuzz\")\n",
        "   elif i % 3 == 0:\n",
        "     print(\"fizz\")\n",
        "   elif i % 5 == 0:\n",
        "     print(\"buzz\")\n",
        "   else:\n",
        "     print(i)\n"
      ]
    },
    {
      "cell_type": "code",
      "execution_count": null,
      "metadata": {
        "id": "BFvyulk_n_Ov"
      },
      "outputs": [],
      "source": [
        "# password generator program\n",
        "import random\n",
        "length = int(input(\"enter password length: \"))\n",
        "list1 = [0,1,2,3,4,5,6,7,8,9]\n",
        "list2 = ['a','b','c','d','e','f','g','h','i','j','k','l','m','n','o','p','q','r','s','t','u','v','w','x','y','z']\n",
        "list3 = ['!','@','#','$','%','&','*','+','-']\n",
        "print(\"welcome to password generator\")\n",
        "L = int(input(\"how many letters you want\"))\n",
        "S = int(input(\"how many symbols you want\"))\n",
        "N = int(input(\"how many numbers you want\"))\n",
        "\n",
        "\n",
        "\n",
        "\n",
        "\n",
        "\n",
        "\n",
        "\n"
      ]
    },
    {
      "cell_type": "code",
      "execution_count": null,
      "metadata": {
        "id": "benlpoRSqA8q"
      },
      "outputs": [],
      "source": [
        "import string\n",
        "import random\n",
        "\n",
        "length = int(input(\"Enter password length: \"))\n",
        "print('''Choose character set for password from these :\n",
        "\t\t1. Digits\n",
        "\t\t2. Letters\n",
        "\t\t3. Special characters\n",
        "\t\t4. Exit''')\n",
        "\n",
        "characterList = \"\"\n",
        "\n",
        "while(True):\n",
        "\tchoice = int(input(\"Pick a number\"))\n",
        "\tif(choice == 1):\n",
        "\n",
        "\t\tcharacterList += string.ascii_letters\n",
        "\telif(choice == 2):\n",
        "\n",
        "\t\tcharacterList += string.digits\n",
        "\telif(choice == 3):\n",
        "\n",
        "\t\tcharacterList += string.punctuation\n",
        "\telif(choice == 4):\n",
        "\t\tbreak\n",
        "\telse:\n",
        "\t\tprint(\"Please pick a valid option!\")\n",
        "\n",
        "password = []\n",
        "\n",
        "for i in range(length):\n",
        "\n",
        "\trandomchar = random.choice(characterList)\n",
        "\tpassword.append(randomchar)\n",
        "print(\"The random password is \" + \"\".join(password))"
      ]
    }
  ],
  "metadata": {
    "colab": {
      "provenance": []
    },
    "kernelspec": {
      "display_name": "Python 3",
      "name": "python3"
    },
    "language_info": {
      "name": "python"
    }
  },
  "nbformat": 4,
  "nbformat_minor": 0
}
